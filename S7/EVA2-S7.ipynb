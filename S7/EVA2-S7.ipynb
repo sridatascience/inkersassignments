{
  "nbformat": 4,
  "nbformat_minor": 0,
  "metadata": {
    "colab": {
      "name": "Untitled0.ipynb",
      "provenance": []
    },
    "kernelspec": {
      "name": "python3",
      "display_name": "Python 3"
    },
    "accelerator": "GPU"
  },
  "cells": [
    {
      "cell_type": "code",
      "metadata": {
        "colab": {
          "base_uri": "https://localhost:8080/"
        },
        "id": "4QBSWCQyxCwf",
        "outputId": "a7a33f2f-a42a-432d-e4e1-c5a435392c5c"
      },
      "source": [
        "import torch\r\n",
        "!pip install torchsummary\r\n",
        "from torchsummary import summary\r\n",
        "import torch.optim as optim\r\n",
        "import sys\r\n",
        "import os"
      ],
      "execution_count": 1,
      "outputs": [
        {
          "output_type": "stream",
          "text": [
            "Requirement already satisfied: torchsummary in /usr/local/lib/python3.6/dist-packages (1.5.1)\n"
          ],
          "name": "stdout"
        }
      ]
    },
    {
      "cell_type": "code",
      "metadata": {
        "colab": {
          "base_uri": "https://localhost:8080/"
        },
        "id": "q9pySTc8xJN4",
        "outputId": "c9ebd153-ff4a-489e-b26e-b2a19e99a426"
      },
      "source": [
        "from google.colab import drive\r\n",
        "drive.mount('/content/drive/',force_remount=True)"
      ],
      "execution_count": 2,
      "outputs": [
        {
          "output_type": "stream",
          "text": [
            "Mounted at /content/drive/\n"
          ],
          "name": "stdout"
        }
      ]
    },
    {
      "cell_type": "code",
      "metadata": {
        "colab": {
          "base_uri": "https://localhost:8080/"
        },
        "id": "7Mps-jmFxQpg",
        "outputId": "02cc8d50-1ba9-4f41-c7d4-9b9b031ae41e"
      },
      "source": [
        "!rm -rf '/content/drive/MyDrive/colab_notebooks/S7/__pycache__'\r\n",
        "!ls -lrt '/content/drive/MyDrive/colab_notebooks/S7/'"
      ],
      "execution_count": 3,
      "outputs": [
        {
          "output_type": "stream",
          "text": [
            "total 12\n",
            "-rw------- 1 root root 1175 Jan 20 12:13 train_test_loader.py\n",
            "-rw------- 1 root root  987 Jan 20 12:13 train.py\n",
            "-rw------- 1 root root 1136 Jan 20 12:13 test.py\n",
            "-rw------- 1 root root 2801 Jan 20 12:13 model.py\n",
            "-rw------- 1 root root  572 Jan 20 12:13 loss_accuracy.py\n",
            "drwx------ 2 root root 4096 Jan 20 12:32 data\n"
          ],
          "name": "stdout"
        }
      ]
    },
    {
      "cell_type": "code",
      "metadata": {
        "id": "KJQfhX8fxVR8"
      },
      "source": [
        "os.chdir('./drive/MyDrive/colab_notebooks/S7/')"
      ],
      "execution_count": 4,
      "outputs": []
    },
    {
      "cell_type": "code",
      "metadata": {
        "colab": {
          "base_uri": "https://localhost:8080/"
        },
        "id": "QxeZ1YuPxZrt",
        "outputId": "6eedbe3b-fca6-46f8-cd43-f6dbaf2ed6bc"
      },
      "source": [
        "!ls"
      ],
      "execution_count": 5,
      "outputs": [
        {
          "output_type": "stream",
          "text": [
            "data  loss_accuracy.py\tmodel.py  test.py  train.py  train_test_loader.py\n"
          ],
          "name": "stdout"
        }
      ]
    },
    {
      "cell_type": "code",
      "metadata": {
        "id": "6j3LhMUKxcPI"
      },
      "source": [
        "import train_test_loader as ttl\r\n",
        "import model as mdl\r\n",
        "import train as trn\r\n",
        "import test as tst\r\n",
        "import loss_accuracy as lsac"
      ],
      "execution_count": 6,
      "outputs": []
    },
    {
      "cell_type": "code",
      "metadata": {
        "id": "7377X0Vwxu-m"
      },
      "source": [
        "def main(classes):\r\n",
        "\r\n",
        "  train_loader, test_loader = ttl.get_train_test(classes)\r\n",
        "\r\n",
        "  use_cuda = torch.cuda.is_available()\r\n",
        "  device = torch.device(\"cuda\" if use_cuda else \"cpu\")\r\n",
        "  print(device)\r\n",
        "\r\n",
        "  model = mdl.Net().to(device)\r\n",
        "  summary(model, input_size=(3, 32, 32))\r\n",
        "  optimizer = optim.SGD(model.parameters(), lr=0.01, momentum=0.9)\r\n",
        "  EPOCHS=25\r\n",
        " \r\n",
        "  test_loss=[]\r\n",
        "  test_accuracy=[]\r\n",
        "  for epoch in range(EPOCHS):\r\n",
        "      print(\"EPOCH:\", epoch + 1)\r\n",
        "      train_losses,train_acc=trn.train(model, device, train_loader, optimizer, epoch=EPOCHS)\r\n",
        "      test_losses,test_acc=tst.test(model, device, test_loader)\r\n",
        "\r\n",
        "      test_loss.append(test_losses)\r\n",
        "      test_accuracy.append(test_acc)\r\n",
        "  \r\n",
        "  lsac.plot_acc_loss(test_loss,test_accuracy)\r\n",
        "  print(test_loss)\r\n",
        "  print(test_accuracy)"
      ],
      "execution_count": 7,
      "outputs": []
    },
    {
      "cell_type": "code",
      "metadata": {
        "colab": {
          "base_uri": "https://localhost:8080/",
          "height": 1000
        },
        "id": "IF92XfClx-vG",
        "outputId": "256f9ef4-f5de-438a-c607-2b0a6939d21d"
      },
      "source": [
        "if __name__ == '__main__':\r\n",
        "  from tqdm import tqdm\r\n",
        "  if hasattr(tqdm, '_instances'):\r\n",
        "    tqdm._instances.clear()\r\n",
        "\r\n",
        "  classes = ('plane', 'car', 'bird', 'cat', 'deer', 'dog',\r\n",
        "    'frog', 'horse', 'ship', 'truck')\r\n",
        "  \r\n",
        "  main(classes)"
      ],
      "execution_count": 8,
      "outputs": [
        {
          "output_type": "stream",
          "text": [
            "CUDA Available? True\n",
            "Files already downloaded and verified\n",
            "Files already downloaded and verified\n",
            "cuda\n"
          ],
          "name": "stdout"
        },
        {
          "output_type": "stream",
          "text": [
            "\r  0%|          | 0/391 [00:00<?, ?it/s]"
          ],
          "name": "stderr"
        },
        {
          "output_type": "stream",
          "text": [
            "----------------------------------------------------------------\n",
            "        Layer (type)               Output Shape         Param #\n",
            "================================================================\n",
            "            Conv2d-1           [-1, 32, 32, 32]             864\n",
            "       BatchNorm2d-2           [-1, 32, 32, 32]              64\n",
            "              ReLU-3           [-1, 32, 32, 32]               0\n",
            "           Dropout-4           [-1, 32, 32, 32]               0\n",
            "            Conv2d-5           [-1, 32, 32, 32]           9,216\n",
            "       BatchNorm2d-6           [-1, 32, 32, 32]              64\n",
            "              ReLU-7           [-1, 32, 32, 32]               0\n",
            "           Dropout-8           [-1, 32, 32, 32]               0\n",
            "         MaxPool2d-9           [-1, 32, 16, 16]               0\n",
            "           Conv2d-10           [-1, 32, 16, 16]             288\n",
            "      BatchNorm2d-11           [-1, 32, 16, 16]              64\n",
            "             ReLU-12           [-1, 32, 16, 16]               0\n",
            "          Dropout-13           [-1, 32, 16, 16]               0\n",
            "           Conv2d-14           [-1, 64, 16, 16]          18,432\n",
            "      BatchNorm2d-15           [-1, 64, 16, 16]             128\n",
            "             ReLU-16           [-1, 64, 16, 16]               0\n",
            "          Dropout-17           [-1, 64, 16, 16]               0\n",
            "        MaxPool2d-18             [-1, 64, 8, 8]               0\n",
            "           Conv2d-19             [-1, 64, 6, 6]          36,864\n",
            "      BatchNorm2d-20             [-1, 64, 6, 6]             128\n",
            "             ReLU-21             [-1, 64, 6, 6]               0\n",
            "          Dropout-22             [-1, 64, 6, 6]               0\n",
            "        MaxPool2d-23             [-1, 64, 6, 6]               0\n",
            "           Conv2d-24            [-1, 128, 6, 6]          73,728\n",
            "      BatchNorm2d-25            [-1, 128, 6, 6]             256\n",
            "             ReLU-26            [-1, 128, 6, 6]               0\n",
            "          Dropout-27            [-1, 128, 6, 6]               0\n",
            "AdaptiveAvgPool2d-28            [-1, 128, 1, 1]               0\n",
            "           Conv2d-29             [-1, 10, 1, 1]           1,280\n",
            "================================================================\n",
            "Total params: 141,376\n",
            "Trainable params: 141,376\n",
            "Non-trainable params: 0\n",
            "----------------------------------------------------------------\n",
            "Input size (MB): 0.01\n",
            "Forward/backward pass size (MB): 3.07\n",
            "Params size (MB): 0.54\n",
            "Estimated Total Size (MB): 3.62\n",
            "----------------------------------------------------------------\n",
            "EPOCH: 1\n"
          ],
          "name": "stdout"
        },
        {
          "output_type": "stream",
          "text": [
            "Loss=1.1601393222808838 Batch_id=390 Accuracy=49.16: 100%|██████████| 391/391 [00:16<00:00, 23.33it/s]\n",
            "  0%|          | 0/391 [00:00<?, ?it/s]"
          ],
          "name": "stderr"
        },
        {
          "output_type": "stream",
          "text": [
            "\n",
            "Test set: Average loss: 1.2374, Accuracy: 5473/10000 (54.73%)\n",
            "\n",
            "EPOCH: 2\n"
          ],
          "name": "stdout"
        },
        {
          "output_type": "stream",
          "text": [
            "Loss=1.0081623792648315 Batch_id=390 Accuracy=65.55: 100%|██████████| 391/391 [00:16<00:00, 23.91it/s]\n",
            "  0%|          | 0/391 [00:00<?, ?it/s]"
          ],
          "name": "stderr"
        },
        {
          "output_type": "stream",
          "text": [
            "\n",
            "Test set: Average loss: 1.0279, Accuracy: 6296/10000 (62.96%)\n",
            "\n",
            "EPOCH: 3\n"
          ],
          "name": "stdout"
        },
        {
          "output_type": "stream",
          "text": [
            "Loss=0.9726260900497437 Batch_id=390 Accuracy=71.13: 100%|██████████| 391/391 [00:16<00:00, 24.09it/s]\n",
            "  0%|          | 0/391 [00:00<?, ?it/s]"
          ],
          "name": "stderr"
        },
        {
          "output_type": "stream",
          "text": [
            "\n",
            "Test set: Average loss: 0.8716, Accuracy: 6910/10000 (69.10%)\n",
            "\n",
            "EPOCH: 4\n"
          ],
          "name": "stdout"
        },
        {
          "output_type": "stream",
          "text": [
            "Loss=0.6492418646812439 Batch_id=390 Accuracy=74.29: 100%|██████████| 391/391 [00:16<00:00, 23.97it/s]\n",
            "  0%|          | 0/391 [00:00<?, ?it/s]"
          ],
          "name": "stderr"
        },
        {
          "output_type": "stream",
          "text": [
            "\n",
            "Test set: Average loss: 0.7806, Accuracy: 7267/10000 (72.67%)\n",
            "\n",
            "EPOCH: 5\n"
          ],
          "name": "stdout"
        },
        {
          "output_type": "stream",
          "text": [
            "Loss=0.7103186845779419 Batch_id=390 Accuracy=75.75: 100%|██████████| 391/391 [00:15<00:00, 24.61it/s]\n",
            "  0%|          | 0/391 [00:00<?, ?it/s]"
          ],
          "name": "stderr"
        },
        {
          "output_type": "stream",
          "text": [
            "\n",
            "Test set: Average loss: 0.7235, Accuracy: 7453/10000 (74.53%)\n",
            "\n",
            "EPOCH: 6\n"
          ],
          "name": "stdout"
        },
        {
          "output_type": "stream",
          "text": [
            "Loss=0.6653572916984558 Batch_id=390 Accuracy=77.80: 100%|██████████| 391/391 [00:15<00:00, 24.50it/s]\n",
            "  0%|          | 0/391 [00:00<?, ?it/s]"
          ],
          "name": "stderr"
        },
        {
          "output_type": "stream",
          "text": [
            "\n",
            "Test set: Average loss: 0.6748, Accuracy: 7628/10000 (76.28%)\n",
            "\n",
            "EPOCH: 7\n"
          ],
          "name": "stdout"
        },
        {
          "output_type": "stream",
          "text": [
            "Loss=0.60397869348526 Batch_id=390 Accuracy=78.78: 100%|██████████| 391/391 [00:16<00:00, 24.43it/s]\n",
            "  0%|          | 0/391 [00:00<?, ?it/s]"
          ],
          "name": "stderr"
        },
        {
          "output_type": "stream",
          "text": [
            "\n",
            "Test set: Average loss: 0.6904, Accuracy: 7567/10000 (75.67%)\n",
            "\n",
            "EPOCH: 8\n"
          ],
          "name": "stdout"
        },
        {
          "output_type": "stream",
          "text": [
            "Loss=0.5024768114089966 Batch_id=390 Accuracy=79.75: 100%|██████████| 391/391 [00:15<00:00, 24.71it/s]\n",
            "  0%|          | 0/391 [00:00<?, ?it/s]"
          ],
          "name": "stderr"
        },
        {
          "output_type": "stream",
          "text": [
            "\n",
            "Test set: Average loss: 0.6453, Accuracy: 7759/10000 (77.59%)\n",
            "\n",
            "EPOCH: 9\n"
          ],
          "name": "stdout"
        },
        {
          "output_type": "stream",
          "text": [
            "Loss=0.5064736604690552 Batch_id=390 Accuracy=80.68: 100%|██████████| 391/391 [00:15<00:00, 25.99it/s]\n",
            "  0%|          | 0/391 [00:00<?, ?it/s]"
          ],
          "name": "stderr"
        },
        {
          "output_type": "stream",
          "text": [
            "\n",
            "Test set: Average loss: 0.6424, Accuracy: 7728/10000 (77.28%)\n",
            "\n",
            "EPOCH: 10\n"
          ],
          "name": "stdout"
        },
        {
          "output_type": "stream",
          "text": [
            "Loss=0.577422022819519 Batch_id=390 Accuracy=81.45: 100%|██████████| 391/391 [00:15<00:00, 25.58it/s]\n",
            "  0%|          | 0/391 [00:00<?, ?it/s]"
          ],
          "name": "stderr"
        },
        {
          "output_type": "stream",
          "text": [
            "\n",
            "Test set: Average loss: 0.5707, Accuracy: 8019/10000 (80.19%)\n",
            "\n",
            "EPOCH: 11\n"
          ],
          "name": "stdout"
        },
        {
          "output_type": "stream",
          "text": [
            "Loss=0.44353723526000977 Batch_id=390 Accuracy=82.03: 100%|██████████| 391/391 [00:15<00:00, 25.30it/s]\n",
            "  0%|          | 0/391 [00:00<?, ?it/s]"
          ],
          "name": "stderr"
        },
        {
          "output_type": "stream",
          "text": [
            "\n",
            "Test set: Average loss: 0.5769, Accuracy: 8045/10000 (80.45%)\n",
            "\n",
            "EPOCH: 12\n"
          ],
          "name": "stdout"
        },
        {
          "output_type": "stream",
          "text": [
            "Loss=0.49614009261131287 Batch_id=390 Accuracy=82.44: 100%|██████████| 391/391 [00:15<00:00, 25.99it/s]\n",
            "  0%|          | 0/391 [00:00<?, ?it/s]"
          ],
          "name": "stderr"
        },
        {
          "output_type": "stream",
          "text": [
            "\n",
            "Test set: Average loss: 0.5705, Accuracy: 8035/10000 (80.35%)\n",
            "\n",
            "EPOCH: 13\n"
          ],
          "name": "stdout"
        },
        {
          "output_type": "stream",
          "text": [
            "Loss=0.5596376657485962 Batch_id=390 Accuracy=83.09: 100%|██████████| 391/391 [00:15<00:00, 25.56it/s]\n",
            "  0%|          | 0/391 [00:00<?, ?it/s]"
          ],
          "name": "stderr"
        },
        {
          "output_type": "stream",
          "text": [
            "\n",
            "Test set: Average loss: 0.5771, Accuracy: 8052/10000 (80.52%)\n",
            "\n",
            "EPOCH: 14\n"
          ],
          "name": "stdout"
        },
        {
          "output_type": "stream",
          "text": [
            "Loss=0.5793136358261108 Batch_id=390 Accuracy=83.42: 100%|██████████| 391/391 [00:14<00:00, 26.43it/s]\n",
            "  0%|          | 0/391 [00:00<?, ?it/s]"
          ],
          "name": "stderr"
        },
        {
          "output_type": "stream",
          "text": [
            "\n",
            "Test set: Average loss: 0.5670, Accuracy: 8017/10000 (80.17%)\n",
            "\n",
            "EPOCH: 15\n"
          ],
          "name": "stdout"
        },
        {
          "output_type": "stream",
          "text": [
            "Loss=0.3731229603290558 Batch_id=390 Accuracy=84.04: 100%|██████████| 391/391 [00:15<00:00, 26.04it/s]\n",
            "  0%|          | 0/391 [00:00<?, ?it/s]"
          ],
          "name": "stderr"
        },
        {
          "output_type": "stream",
          "text": [
            "\n",
            "Test set: Average loss: 0.5461, Accuracy: 8132/10000 (81.32%)\n",
            "\n",
            "EPOCH: 16\n"
          ],
          "name": "stdout"
        },
        {
          "output_type": "stream",
          "text": [
            "Loss=0.5460208654403687 Batch_id=390 Accuracy=84.37: 100%|██████████| 391/391 [00:14<00:00, 26.58it/s]\n",
            "  0%|          | 0/391 [00:00<?, ?it/s]"
          ],
          "name": "stderr"
        },
        {
          "output_type": "stream",
          "text": [
            "\n",
            "Test set: Average loss: 0.5381, Accuracy: 8157/10000 (81.57%)\n",
            "\n",
            "EPOCH: 17\n"
          ],
          "name": "stdout"
        },
        {
          "output_type": "stream",
          "text": [
            "Loss=0.28898218274116516 Batch_id=390 Accuracy=84.52: 100%|██████████| 391/391 [00:14<00:00, 26.43it/s]\n",
            "  0%|          | 0/391 [00:00<?, ?it/s]"
          ],
          "name": "stderr"
        },
        {
          "output_type": "stream",
          "text": [
            "\n",
            "Test set: Average loss: 0.5443, Accuracy: 8123/10000 (81.23%)\n",
            "\n",
            "EPOCH: 18\n"
          ],
          "name": "stdout"
        },
        {
          "output_type": "stream",
          "text": [
            "Loss=0.43488389253616333 Batch_id=390 Accuracy=84.68: 100%|██████████| 391/391 [00:14<00:00, 27.49it/s]\n",
            "  0%|          | 0/391 [00:00<?, ?it/s]"
          ],
          "name": "stderr"
        },
        {
          "output_type": "stream",
          "text": [
            "\n",
            "Test set: Average loss: 0.5232, Accuracy: 8179/10000 (81.79%)\n",
            "\n",
            "EPOCH: 19\n"
          ],
          "name": "stdout"
        },
        {
          "output_type": "stream",
          "text": [
            "Loss=0.5159099102020264 Batch_id=390 Accuracy=85.13: 100%|██████████| 391/391 [00:14<00:00, 26.32it/s]\n",
            "  0%|          | 0/391 [00:00<?, ?it/s]"
          ],
          "name": "stderr"
        },
        {
          "output_type": "stream",
          "text": [
            "\n",
            "Test set: Average loss: 0.5269, Accuracy: 8198/10000 (81.98%)\n",
            "\n",
            "EPOCH: 20\n"
          ],
          "name": "stdout"
        },
        {
          "output_type": "stream",
          "text": [
            "Loss=0.43313097953796387 Batch_id=390 Accuracy=85.40: 100%|██████████| 391/391 [00:14<00:00, 26.58it/s]\n",
            "  0%|          | 0/391 [00:00<?, ?it/s]"
          ],
          "name": "stderr"
        },
        {
          "output_type": "stream",
          "text": [
            "\n",
            "Test set: Average loss: 0.5082, Accuracy: 8246/10000 (82.46%)\n",
            "\n",
            "EPOCH: 21\n"
          ],
          "name": "stdout"
        },
        {
          "output_type": "stream",
          "text": [
            "Loss=0.458094984292984 Batch_id=390 Accuracy=85.81: 100%|██████████| 391/391 [00:14<00:00, 26.47it/s]\n",
            "  0%|          | 0/391 [00:00<?, ?it/s]"
          ],
          "name": "stderr"
        },
        {
          "output_type": "stream",
          "text": [
            "\n",
            "Test set: Average loss: 0.5325, Accuracy: 8208/10000 (82.08%)\n",
            "\n",
            "EPOCH: 22\n"
          ],
          "name": "stdout"
        },
        {
          "output_type": "stream",
          "text": [
            "Loss=0.3622327148914337 Batch_id=390 Accuracy=85.81: 100%|██████████| 391/391 [00:14<00:00, 27.10it/s]\n",
            "  0%|          | 0/391 [00:00<?, ?it/s]"
          ],
          "name": "stderr"
        },
        {
          "output_type": "stream",
          "text": [
            "\n",
            "Test set: Average loss: 0.5023, Accuracy: 8269/10000 (82.69%)\n",
            "\n",
            "EPOCH: 23\n"
          ],
          "name": "stdout"
        },
        {
          "output_type": "stream",
          "text": [
            "Loss=0.5525974035263062 Batch_id=390 Accuracy=86.11: 100%|██████████| 391/391 [00:14<00:00, 26.76it/s]\n",
            "  0%|          | 0/391 [00:00<?, ?it/s]"
          ],
          "name": "stderr"
        },
        {
          "output_type": "stream",
          "text": [
            "\n",
            "Test set: Average loss: 0.5004, Accuracy: 8273/10000 (82.73%)\n",
            "\n",
            "EPOCH: 24\n"
          ],
          "name": "stdout"
        },
        {
          "output_type": "stream",
          "text": [
            "Loss=0.3558877110481262 Batch_id=390 Accuracy=86.41: 100%|██████████| 391/391 [00:14<00:00, 27.27it/s]\n",
            "  0%|          | 0/391 [00:00<?, ?it/s]"
          ],
          "name": "stderr"
        },
        {
          "output_type": "stream",
          "text": [
            "\n",
            "Test set: Average loss: 0.5031, Accuracy: 8265/10000 (82.65%)\n",
            "\n",
            "EPOCH: 25\n"
          ],
          "name": "stdout"
        },
        {
          "output_type": "stream",
          "text": [
            "Loss=0.39072880148887634 Batch_id=390 Accuracy=86.63: 100%|██████████| 391/391 [00:14<00:00, 26.33it/s]\n"
          ],
          "name": "stderr"
        },
        {
          "output_type": "stream",
          "text": [
            "\n",
            "Test set: Average loss: 0.4901, Accuracy: 8341/10000 (83.41%)\n",
            "\n",
            "[[1.2374016172409057], [1.0278982629299165], [0.8715553109169006], [0.7806413319587707], [0.7234507528305054], [0.6747736489295959], [0.6903704581737519], [0.6453321571350098], [0.6424494598388671], [0.57067685546875], [0.5769498428344727], [0.5705446686267853], [0.5771237051963806], [0.5670454907417297], [0.5460770558357239], [0.5380726286888122], [0.5442851211547851], [0.5232400855064392], [0.5269342673301697], [0.5081929862976075], [0.5325358702659607], [0.5023324902534485], [0.5004238718032837], [0.5030844841003418], [0.49014166412353516]]\n",
            "[[54.73], [62.96], [69.1], [72.67], [74.53], [76.28], [75.67], [77.59], [77.28], [80.19], [80.45], [80.35], [80.52], [80.17], [81.32], [81.57], [81.23], [81.79], [81.98], [82.46], [82.08], [82.69], [82.73], [82.65], [83.41]]\n"
          ],
          "name": "stdout"
        },
        {
          "output_type": "display_data",
          "data": {
            "image/png": "[encoded data removed]",
            "text/plain": [
              "<Figure size 1080x720 with 2 Axes>"
            ]
          },
          "metadata": {
            "tags": [],
            "needs_background": "light"
          }
        }
      ]
    }
  ]
}