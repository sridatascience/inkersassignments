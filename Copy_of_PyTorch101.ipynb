{
  "nbformat": 4,
  "nbformat_minor": 0,
  "metadata": {
    "colab": {
      "name": "Copy of PyTorch101.ipynb",
      "provenance": [],
      "collapsed_sections": [],
      "include_colab_link": true
    },
    "kernelspec": {
      "name": "python3",
      "display_name": "Python 3"
    }
  },
  "cells": [
    {
      "cell_type": "markdown",
      "metadata": {
        "id": "view-in-github",
        "colab_type": "text"
      },
      "source": [
        "<a href=\"https://colab.research.google.com/github/sridatascience/inkersassignments/blob/master/Copy_of_PyTorch101.ipynb\" target=\"_parent\"><img src=\"https://colab.research.google.com/assets/colab-badge.svg\" alt=\"Open In Colab\"/></a>"
      ]
    },
    {
      "cell_type": "markdown",
      "metadata": {
        "id": "_kYM3ylzYo1Q"
      },
      "source": [
        "![PyTorch](https://devblogs.nvidia.com/wp-content/uploads/2017/04/pytorch-logo-dark.png)\n",
        "\n",
        "An open source machine learning framework that accelerates the path from research prototyping to production deployment.\n",
        "\n"
      ]
    },
    {
      "cell_type": "markdown",
      "metadata": {
        "id": "WcVqSTrWY6oz"
      },
      "source": [
        "# Tensor - Pytorch's core data structure\n",
        "\n",
        "In Python we can create lists, lists of lists, lists of lists and so on. In NumPy there is a `numpy.ndarray` which represents `n`- dimensional array. In math there is a special name for the generalization of vectors and matrices to a higher dimensional space - a tensor\n",
        "\n",
        "Tensor is an entity with a defined number of dimensions called an order (rank). \n",
        "\n",
        "**Scalar** can be considered as a rank-0-tensor. \n",
        "\n",
        "**Vector** can be introduced as a rank-1-tensor. \n",
        "\n",
        "**Matrices** can be considered as a rank-2-tensor.\n",
        "\n",
        "# Tensor Basics\n",
        "\n",
        "Let's import the torch module first."
      ]
    },
    {
      "cell_type": "code",
      "metadata": {
        "id": "e-oFVL2tYYqp"
      },
      "source": [
        "import numpy as np\n",
        "import torch"
      ],
      "execution_count": null,
      "outputs": []
    },
    {
      "cell_type": "markdown",
      "metadata": {
        "id": "uGxuR5IEaFJa"
      },
      "source": [
        "## Tensor Creation\n",
        "Let's view examples of matrices and tensors generation\n",
        "\n",
        "2-dimensional (rank-2) tensor of zeros:"
      ]
    },
    {
      "cell_type": "code",
      "metadata": {
        "id": "897JQc25aD3E",
        "colab": {
          "base_uri": "https://localhost:8080/"
        },
        "outputId": "8bbb85e1-2c67-42f4-fbe7-016571595bcd"
      },
      "source": [
        "torch.zeros(3, 4)"
      ],
      "execution_count": null,
      "outputs": [
        {
          "output_type": "execute_result",
          "data": {
            "text/plain": [
              "tensor([[0., 0., 0., 0.],\n",
              "        [0., 0., 0., 0.],\n",
              "        [0., 0., 0., 0.]])"
            ]
          },
          "metadata": {
            "tags": []
          },
          "execution_count": 2
        }
      ]
    },
    {
      "cell_type": "markdown",
      "metadata": {
        "id": "pujmpEBhaPRA"
      },
      "source": [
        "Random rank-3 tensor:\n",
        "_read the print below and convince yourself how this is a rank-3-tensor and learn what those 2, 3, 4 values are there for_"
      ]
    },
    {
      "cell_type": "code",
      "metadata": {
        "id": "mBrznTNhaOL7",
        "colab": {
          "base_uri": "https://localhost:8080/"
        },
        "outputId": "a1e9c265-f447-4b4c-e219-e3cddda68f73"
      },
      "source": [
        "torch.rand(2, 3, 4)"
      ],
      "execution_count": null,
      "outputs": [
        {
          "output_type": "execute_result",
          "data": {
            "text/plain": [
              "tensor([[[0.8414, 0.4143, 0.2398, 0.6944],\n",
              "         [0.3890, 0.7576, 0.0895, 0.7653],\n",
              "         [0.5442, 0.0254, 0.9606, 0.7398]],\n",
              "\n",
              "        [[0.8623, 0.0939, 0.1415, 0.8343],\n",
              "         [0.1940, 0.6431, 0.3841, 0.7688],\n",
              "         [0.6092, 0.2694, 0.0289, 0.2324]]])"
            ]
          },
          "metadata": {
            "tags": []
          },
          "execution_count": 3
        }
      ]
    },
    {
      "cell_type": "markdown",
      "metadata": {
        "id": "kO4fIr15asdi"
      },
      "source": [
        "I am hoping you have noticed 4-elements in a row, 3 rows making one block and there are 2 blocks. \n",
        "\n",
        "Random rank-4-tensor:"
      ]
    },
    {
      "cell_type": "code",
      "metadata": {
        "id": "KiCLvMGCaVZ3",
        "colab": {
          "base_uri": "https://localhost:8080/"
        },
        "outputId": "f4121a1a-c89f-470c-ba44-a47904113446"
      },
      "source": [
        "torch.rand(2, 2, 2, 3)"
      ],
      "execution_count": null,
      "outputs": [
        {
          "output_type": "execute_result",
          "data": {
            "text/plain": [
              "tensor([[[[0.1377, 0.7108, 0.4193],\n",
              "          [0.9998, 0.6114, 0.7843]],\n",
              "\n",
              "         [[0.0247, 0.1080, 0.8187],\n",
              "          [0.3893, 0.9098, 0.8072]]],\n",
              "\n",
              "\n",
              "        [[[0.7617, 0.6715, 0.3997],\n",
              "          [0.0702, 0.1704, 0.4237]],\n",
              "\n",
              "         [[0.2376, 0.1319, 0.0523],\n",
              "          [0.4549, 0.9336, 0.2219]]]])"
            ]
          },
          "metadata": {
            "tags": []
          },
          "execution_count": 16
        }
      ]
    },
    {
      "cell_type": "code",
      "metadata": {
        "colab": {
          "base_uri": "https://localhost:8080/"
        },
        "id": "hOrKM2ifNGgc",
        "outputId": "0003088a-d6fd-49f3-b2d2-1a1236fb01fe"
      },
      "source": [
        "x.shape"
      ],
      "execution_count": null,
      "outputs": [
        {
          "output_type": "execute_result",
          "data": {
            "text/plain": [
              "torch.Size([2, 2, 2, 3])"
            ]
          },
          "metadata": {
            "tags": []
          },
          "execution_count": 14
        }
      ]
    },
    {
      "cell_type": "markdown",
      "metadata": {
        "id": "lF6VL68s3AMV"
      },
      "source": [
        "## Question 1:\n",
        "\n",
        "How many dimensions are there in a tensor defined as below?"
      ]
    },
    {
      "cell_type": "code",
      "metadata": {
        "id": "8IbXcI3x3Ibt"
      },
      "source": [
        "x=torch.rand(1, 1, 1, 1)"
      ],
      "execution_count": null,
      "outputs": []
    },
    {
      "cell_type": "code",
      "metadata": {
        "colab": {
          "base_uri": "https://localhost:8080/"
        },
        "id": "gaxU6pFVQuHd",
        "outputId": "33e0077d-2276-4833-a6ae-e2b3829f4ff4"
      },
      "source": [
        "x.ndim"
      ],
      "execution_count": null,
      "outputs": [
        {
          "output_type": "execute_result",
          "data": {
            "text/plain": [
              "4"
            ]
          },
          "metadata": {
            "tags": []
          },
          "execution_count": 10
        }
      ]
    },
    {
      "cell_type": "markdown",
      "metadata": {
        "id": "3_OwENLVPhQ1"
      },
      "source": [
        "4\n"
      ]
    },
    {
      "cell_type": "markdown",
      "metadata": {
        "id": "qmgpqssRa9jF"
      },
      "source": [
        "**bold text**.\n",
        "\n",
        "---\n",
        "\n",
        "\n",
        "There are many more ways to create tensor using some restrictions on values it should contatn - for the full reference, please follow the [official docs](https://pytorch.org/docs/stable/torch.html#creation-ops). \n",
        "\n",
        "\n",
        ".\n",
        "---\n",
        "\n",
        "\n",
        "# Python / NumPy / Pytorch interoperability\n",
        "\n",
        "You can create tensors from python as well as numpy arrays. You can also convert torch tensors to numpy arrays. So, the interoperability between torch and numpy is pretty good. "
      ]
    },
    {
      "cell_type": "code",
      "metadata": {
        "id": "ipgpeWPfa6gE",
        "colab": {
          "base_uri": "https://localhost:8080/"
        },
        "outputId": "0f68f7f0-a127-48c6-8e46-700462ee3f12"
      },
      "source": [
        "# Simple Python List\n",
        "python_list = [1, 2]\n",
        "\n",
        "# Create a numpy array from python list\n",
        "numpy_array = np.array(python_list)\n",
        "\n",
        "numpy_array1 = np.array([1,2])\n",
        "\n",
        "print('numpy_array', numpy_array)\n",
        "print('numpy_array1', numpy_array1)\n",
        "# numpy_array[0]= 10\n",
        "\n",
        "print('numpy_array', numpy_array)\n",
        "# print('np-array',np.array([1,2])\n",
        "\n",
        "# Create a torch Tensor from python list\n",
        "tensor_from_list = torch.tensor(python_list)\n",
        "\n",
        "# Create a torch Tensor from Numpy array\n",
        "tensor_from_array = torch.tensor(numpy_array)\n",
        "\n",
        "# Another way to create a torch Tensor from Numpy array (share same storage)\n",
        "tensor_from_array_v2 = torch.from_numpy(numpy_array)\n",
        "\n",
        "# Convert torch tensor to numpy array\n",
        "array_from_tensor = tensor_from_array.numpy()\n",
        "print(\"x\"*20)\n",
        "print('List:   ', python_list)\n",
        "print('Array:  ', numpy_array)\n",
        "print('Tensor: ', tensor_from_list)\n",
        "print('Tensor: ', tensor_from_array)\n",
        "print('Tensor: ', tensor_from_array_v2)\n",
        "print('Array:  ', array_from_tensor)"
      ],
      "execution_count": null,
      "outputs": [
        {
          "output_type": "stream",
          "text": [
            "numpy_array [1 2]\n",
            "numpy_array1 [1 2]\n",
            "numpy_array [1 2]\n",
            "xxxxxxxxxxxxxxxxxxxx\n",
            "List:    [1, 2]\n",
            "Array:   [1 2]\n",
            "Tensor:  tensor([1, 2])\n",
            "Tensor:  tensor([1, 2])\n",
            "Tensor:  tensor([1, 2])\n",
            "Array:   [1 2]\n"
          ],
          "name": "stdout"
        }
      ]
    },
    {
      "cell_type": "code",
      "metadata": {
        "colab": {
          "base_uri": "https://localhost:8080/"
        },
        "id": "Ylqp0z6XQ82R",
        "outputId": "6c7e4e4a-5053-4959-e0f1-9dd66b28e5fd"
      },
      "source": [
        "torch.tensor(numpy_array).numpy()\n",
        "#torch.tensor([1,2])\n",
        "#torch.tensor(np.array([1,2]))\n",
        "#torch.from_numpy(np.array([1,2]))\n",
        "#torch.from_numpy(np.array([1,2])).numpy()"
      ],
      "execution_count": null,
      "outputs": [
        {
          "output_type": "execute_result",
          "data": {
            "text/plain": [
              "array([1, 2])"
            ]
          },
          "metadata": {
            "tags": []
          },
          "execution_count": 22
        }
      ]
    },
    {
      "cell_type": "markdown",
      "metadata": {
        "id": "X_x-86B8gqik"
      },
      "source": [
        "**Difference between** `torch.Tensor` **and** `torch.from_numpy`\n",
        "\n",
        "Pytorch aims to be an effective library for computations. What does it mean? It means that pytorch avoids memory copying if it can. "
      ]
    },
    {
      "cell_type": "code",
      "metadata": {
        "id": "eHCKDGpygn_d",
        "colab": {
          "base_uri": "https://localhost:8080/"
        },
        "outputId": "c3144896-8ad2-4d76-f802-2a6a68be6fea"
      },
      "source": [
        "numpy_array[0] = 10\n",
        "# still a doubt if it is just printing already computed value for 'tensor_from_array'  why not for 'tensor_from_array_v2'\n",
        "print('Array:  ', numpy_array)\n",
        "print('Tensor: ', tensor_from_array)\n",
        "# print('Tensor:', torch.tensor(numpy_array))\n",
        "print('Tensor: ', tensor_from_array_v2)  #a torch Tensor from Numpy array (share same storage)"
      ],
      "execution_count": null,
      "outputs": [
        {
          "output_type": "stream",
          "text": [
            "Array:   [10  2]\n",
            "Tensor:  tensor([1, 2])\n",
            "Tensor:  tensor([10,  2])\n"
          ],
          "name": "stdout"
        }
      ]
    },
    {
      "cell_type": "markdown",
      "metadata": {
        "id": "-CKtdNRM3SMp"
      },
      "source": [
        "## Question 2:\n",
        "\n",
        "Assume that we moved our complete (cats vs dogs) image dataset to numpy arrays. Then we use torch.from_numpy to convert these images to tensor. Then we apply a specific data augmentation strategy called \"CutOut\" which blocks a portion of the image directly on these tensors. What will happen to the accuracy of a model trained on this strategy compared to the one without this strategy? CutOut strategy is shown below: \n",
        "\n",
        "![CutOut](https://encrypted-tbn0.gstatic.com/images?q=tbn%3AANd9GcSnSyN835AmtQPKQbPjDHX-FmshNilbtexX95cRGQPwl56QCGDn)\n",
        "\n",
        "## Question 3:\n",
        "Why do you think we are observing this behavior?\n",
        "\n",
        "\n",
        "\n",
        "---\n",
        "\n",
        "\n"
      ]
    },
    {
      "cell_type": "markdown",
      "metadata": {
        "id": "AUyuS3MnV_Yl"
      },
      "source": [
        "Question 2 - Model will not train further\n",
        "Question 3 - because we are not cutting out a portion of the image"
      ]
    },
    {
      "cell_type": "markdown",
      "metadata": {
        "id": "dZq7O-aihSOA"
      },
      "source": [
        "We have two different ways to create tensor from its NumPy counterpart - one copies memory and another one shares the same underlying storage. It works in the opposite way:"
      ]
    },
    {
      "cell_type": "code",
      "metadata": {
        "id": "TNFOwV8EhPwQ",
        "colab": {
          "base_uri": "https://localhost:8080/"
        },
        "outputId": "5fbafa98-382c-4b02-c128-57dc1888a1a0"
      },
      "source": [
        "array_from_tensor = tensor_from_array.numpy()\n",
        "print('Tensor: ', tensor_from_array)\n",
        "print('Array: ', array_from_tensor)\n",
        "\n",
        "tensor_from_array[0] = 11\n",
        "print('Tensor: ', tensor_from_array)\n",
        "print('Array: ', array_from_tensor)"
      ],
      "execution_count": null,
      "outputs": [
        {
          "output_type": "stream",
          "text": [
            "Tensor:  tensor([1, 2])\n",
            "Array:  [1 2]\n",
            "Tensor:  tensor([11,  2])\n",
            "Array:  [11  2]\n"
          ],
          "name": "stdout"
        }
      ]
    },
    {
      "cell_type": "markdown",
      "metadata": {
        "id": "UM9ytbvKhtCw"
      },
      "source": [
        "## Data types\n",
        "\n",
        "The basic data type of all Deep Learning-related operations is float, but sometimes you may need something else. Pytorch support different number types for its tensors the same way NumPy does it - by specifying the data type on tensor creation or via casting. Ths full list of supported data types can be found [here](https://pytorch.org/docs/stable/tensors.html). "
      ]
    },
    {
      "cell_type": "code",
      "metadata": {
        "id": "Bd6WkzJ4hpYi",
        "colab": {
          "base_uri": "https://localhost:8080/"
        },
        "outputId": "223246dc-5b4a-4527-bb37-20762d79dc54"
      },
      "source": [
        "tensor = torch.zeros(2, 2)\n",
        "print('Tensor with default type: ', tensor)\n",
        "tensor = torch.zeros(2, 2, dtype=torch.float16)\n",
        "print('Tensor with 16-bit float: ', tensor)\n",
        "tensor = torch.zeros(2, 2, dtype=torch.int16)\n",
        "print('Tensor with integers: ', tensor)\n",
        "tensor = torch.zeros(2, 2, dtype=torch.bool)\n",
        "print('Tensor with boolean data: ', tensor)"
      ],
      "execution_count": null,
      "outputs": [
        {
          "output_type": "stream",
          "text": [
            "Tensor with default type:  tensor([[0., 0.],\n",
            "        [0., 0.]])\n",
            "Tensor with 16-bit float:  tensor([[0., 0.],\n",
            "        [0., 0.]], dtype=torch.float16)\n",
            "Tensor with integers:  tensor([[0, 0],\n",
            "        [0, 0]], dtype=torch.int16)\n",
            "Tensor with boolean data:  tensor([[False, False],\n",
            "        [False, False]])\n"
          ],
          "name": "stdout"
        }
      ]
    },
    {
      "cell_type": "markdown",
      "metadata": {
        "id": "a9F4Dkdr40TE"
      },
      "source": [
        "\n",
        "\n",
        "---\n",
        "\n",
        "\n",
        "## Question 4:\n",
        "We saw above that some times numpy and tensors share same storage and changing one changes the other. \n",
        "If we define a rank-2-tensor with ones (dtype of f16), and then convert it into a numpy data type using tensor.numpy() and store it in a variable called \"num\", and then we perform this operation `num = num * 0.5`, will the original tensor have 1.0s or 0.5s as its element values? \n"
      ]
    },
    {
      "cell_type": "code",
      "metadata": {
        "colab": {
          "base_uri": "https://localhost:8080/"
        },
        "id": "EsEYj_J7tN81",
        "outputId": "19e23066-e513-44c8-d9d7-bb013e1aeaa5"
      },
      "source": [
        "num = torch.ones(2,2,dtype=torch.float16).numpy()\n",
        "print(num)\n",
        "num=num*0.5\n",
        "print(num)"
      ],
      "execution_count": null,
      "outputs": [
        {
          "output_type": "stream",
          "text": [
            "[[1. 1.]\n",
            " [1. 1.]]\n",
            "[[0.5 0.5]\n",
            " [0.5 0.5]]\n"
          ],
          "name": "stdout"
        }
      ]
    },
    {
      "cell_type": "markdown",
      "metadata": {
        "id": "o3hIuVILuWlt"
      },
      "source": [
        "0.5"
      ]
    },
    {
      "cell_type": "markdown",
      "metadata": {
        "id": "OiQt8Mmm51OE"
      },
      "source": [
        "\n",
        "\n",
        "---\n",
        "\n",
        "## Question 5: \n",
        "If the operation `num = num*5` is changed to `num[:] = num*5` will the original tensor have 1.0s or 0.5s as its element values? \n",
        "\n",
        "\n",
        "\n",
        "---\n",
        "\n"
      ]
    },
    {
      "cell_type": "code",
      "metadata": {
        "colab": {
          "base_uri": "https://localhost:8080/"
        },
        "id": "rwfSesDeuroX",
        "outputId": "89dc4b89-bb46-487f-f2fb-e0590dd23c7c"
      },
      "source": [
        "num = torch.ones(2,2,dtype=torch.float16).numpy()\n",
        "print(num)\n",
        "num[:]=num*5\n",
        "print(num)"
      ],
      "execution_count": null,
      "outputs": [
        {
          "output_type": "stream",
          "text": [
            "[[1. 1.]\n",
            " [1. 1.]]\n",
            "[[5. 5.]\n",
            " [5. 5.]]\n"
          ],
          "name": "stdout"
        }
      ]
    },
    {
      "cell_type": "markdown",
      "metadata": {
        "id": "wMOnqe2svN4m"
      },
      "source": [
        "5.\n"
      ]
    },
    {
      "cell_type": "markdown",
      "metadata": {
        "id": "vzh8UB8KiVmb"
      },
      "source": [
        "## Indexing\n",
        "\n",
        "Tensor provides access to its elements via the same `[]` operation as a regular python list or NumPy array. However, as you may recall from NumPy usage, the full power of math libraries is accessible only via vectorized operations, i.e. operations without explicit looping over all vector elements in python and using implicit optimized loops in C/C++/CUDA/Fortran/etc. available via special function calls. Pytorch employs the same paradigm and provides a wide range of vectorized operations. Let's take a look at some examples. \n",
        "\n",
        "Joining a list of tensors together with `torch.cat`"
      ]
    },
    {
      "cell_type": "code",
      "metadata": {
        "id": "GMaCDKPhiUAb",
        "colab": {
          "base_uri": "https://localhost:8080/"
        },
        "outputId": "6024746f-a7c3-4b8a-f5dc-0920736ddc5f"
      },
      "source": [
        "a = torch.zeros(3, 2)\n",
        "b = torch.ones(3, 2)\n",
        "print(torch.cat((a, b), dim=0))\n",
        "print(torch.cat((a, b), dim=1))"
      ],
      "execution_count": null,
      "outputs": [
        {
          "output_type": "stream",
          "text": [
            "tensor([[0., 0.],\n",
            "        [0., 0.],\n",
            "        [0., 0.],\n",
            "        [1., 1.],\n",
            "        [1., 1.],\n",
            "        [1., 1.]])\n",
            "tensor([[0., 0., 1., 1.],\n",
            "        [0., 0., 1., 1.],\n",
            "        [0., 0., 1., 1.]])\n"
          ],
          "name": "stdout"
        }
      ]
    },
    {
      "cell_type": "markdown",
      "metadata": {
        "id": "5bj4aeE86zdH"
      },
      "source": [
        "\n",
        "\n",
        "---\n",
        "\n",
        "## Question 6: \n",
        "Is the transpose of concatenated a & b tensor on dimension 1, same as the contatenated tensor of a & b on dimension 0? \n",
        "\n",
        "\n",
        "\n",
        "---\n",
        "\n"
      ]
    },
    {
      "cell_type": "markdown",
      "metadata": {
        "id": "EtbhrfiPyHT-"
      },
      "source": [
        "No"
      ]
    },
    {
      "cell_type": "code",
      "metadata": {
        "id": "hJLgKAK9yG_a"
      },
      "source": [
        ""
      ],
      "execution_count": null,
      "outputs": []
    },
    {
      "cell_type": "markdown",
      "metadata": {
        "id": "0TXNne69j7LP"
      },
      "source": [
        "Indexing with another tenxor/array:"
      ]
    },
    {
      "cell_type": "code",
      "metadata": {
        "id": "KiE-Fsi4jVd6",
        "colab": {
          "base_uri": "https://localhost:8080/"
        },
        "outputId": "713c52c6-7816-4ad6-aab2-edf9eee4a3b5"
      },
      "source": [
        "a = torch.arange(start=0, end=10)\n",
        "indices = np.arange(0, 10) > 5\n",
        "print(a)\n",
        "print(indices)\n",
        "print(a[indices])\n",
        "\n",
        "print(\"x\"*20)\n",
        "indices = torch.arange(start=0, end=10) %5\n",
        "print(indices)\n",
        "print(a[indices])\n",
        "b=a[indices[-5:]]\n",
        "print('b=',b)\n",
        "print(\"x\"*20)\n",
        "\n",
        "\n",
        "\n",
        "indices1 = torch.arange(start=1, end=11) %5\n",
        "print(indices1)\n",
        "b=a[indices1[-5:]]\n",
        "print('b= ',b)"
      ],
      "execution_count": null,
      "outputs": [
        {
          "output_type": "stream",
          "text": [
            "tensor([0, 1, 2, 3, 4, 5, 6, 7, 8, 9])\n",
            "[False False False False False False  True  True  True  True]\n",
            "tensor([6, 7, 8, 9])\n",
            "xxxxxxxxxxxxxxxxxxxx\n",
            "tensor([0, 1, 2, 3, 4, 0, 1, 2, 3, 4])\n",
            "tensor([0, 1, 2, 3, 4, 0, 1, 2, 3, 4])\n",
            "b= tensor([0, 1, 2, 3, 4])\n",
            "xxxxxxxxxxxxxxxxxxxx\n",
            "tensor([1, 2, 3, 4, 0, 1, 2, 3, 4, 0])\n",
            "b=  tensor([1, 2, 3, 4, 0])\n"
          ],
          "name": "stdout"
        }
      ]
    },
    {
      "cell_type": "markdown",
      "metadata": {
        "id": "LS4dnlu47WQu"
      },
      "source": [
        "\n",
        "\n",
        "---\n",
        "\n",
        "## Question 7:\n",
        "\n",
        "`a` is defined as `torch.arange(start=0, end=10)`. We will create `b` using the two operations as below. In both cases do we get the same value?\n",
        "\n",
        "\n",
        "1.   indices variable created by the modulo operation on arange between 0 and 10. Then a new varialble `b` is created from `a` using the last 5 elements of indices. \n",
        "2.   indices variable created by the modulo operation on arange betwenn 1 and 11. Then a new varialble `b` is created from `a` using the last 5 elements of indices. \n",
        "\n",
        "\n",
        "\n",
        "---\n",
        "\n",
        "\n"
      ]
    },
    {
      "cell_type": "markdown",
      "metadata": {
        "id": "OV_y4_ccN6et"
      },
      "source": [
        "No"
      ]
    },
    {
      "cell_type": "code",
      "metadata": {
        "id": "dEQeVxuDN6Ql"
      },
      "source": [
        ""
      ],
      "execution_count": null,
      "outputs": []
    },
    {
      "cell_type": "markdown",
      "metadata": {
        "id": "eQ4ZCVsTk-KH"
      },
      "source": [
        "What should we do if we have, say, rank-2-tensor and want to select only some rows?"
      ]
    },
    {
      "cell_type": "code",
      "metadata": {
        "id": "_GtRpotjkt1q",
        "colab": {
          "base_uri": "https://localhost:8080/",
          "height": 143
        },
        "outputId": "89ba8b02-10d3-4c37-982a-3ef4b05be946"
      },
      "source": [
        "tensor = torch.rand((5, 3))\n",
        "rows = torch.tensor([0, 2])\n",
        "print(tensor)\n",
        "tensor[rows]"
      ],
      "execution_count": null,
      "outputs": [
        {
          "output_type": "stream",
          "text": [
            "tensor([[0.6657, 0.7041, 0.4038],\n",
            "        [0.1543, 0.4606, 0.1103],\n",
            "        [0.6704, 0.6282, 0.1762],\n",
            "        [0.7504, 0.6413, 0.5980],\n",
            "        [0.0452, 0.2649, 0.7961]])\n"
          ],
          "name": "stdout"
        },
        {
          "output_type": "execute_result",
          "data": {
            "text/plain": [
              "tensor([[0.6657, 0.7041, 0.4038],\n",
              "        [0.6704, 0.6282, 0.1762]])"
            ]
          },
          "metadata": {
            "tags": []
          },
          "execution_count": 71
        }
      ]
    },
    {
      "cell_type": "code",
      "metadata": {
        "colab": {
          "base_uri": "https://localhost:8080/"
        },
        "id": "7_5nMKe32E-0",
        "outputId": "1ff4a6a3-e568-4a14-f62f-1c1c541fc98d"
      },
      "source": [
        "tensor = torch.rand((6,5))\n",
        "rows= torch.tensor([0,2,4])\n",
        "print(tensor)\n",
        "print(tensor[rows])\n",
        "torch.transpose(tensor[rows],0,1)"
      ],
      "execution_count": null,
      "outputs": [
        {
          "output_type": "stream",
          "text": [
            "tensor([[0.1784, 0.9534, 0.5673, 0.9545, 0.6381],\n",
            "        [0.6061, 0.5048, 0.4954, 0.6176, 0.4644],\n",
            "        [0.7596, 0.2594, 0.1323, 0.0272, 0.2814],\n",
            "        [0.5297, 0.0819, 0.1265, 0.1852, 0.7114],\n",
            "        [0.3284, 0.6695, 0.5403, 0.4938, 0.5924],\n",
            "        [0.3430, 0.9531, 0.8495, 0.5548, 0.5554]])\n",
            "tensor([[0.1784, 0.9534, 0.5673, 0.9545, 0.6381],\n",
            "        [0.7596, 0.2594, 0.1323, 0.0272, 0.2814],\n",
            "        [0.3284, 0.6695, 0.5403, 0.4938, 0.5924]])\n"
          ],
          "name": "stdout"
        },
        {
          "output_type": "execute_result",
          "data": {
            "text/plain": [
              "tensor([[0.1784, 0.7596, 0.3284],\n",
              "        [0.9534, 0.2594, 0.6695],\n",
              "        [0.5673, 0.1323, 0.5403],\n",
              "        [0.9545, 0.0272, 0.4938],\n",
              "        [0.6381, 0.2814, 0.5924]])"
            ]
          },
          "metadata": {
            "tags": []
          },
          "execution_count": 55
        }
      ]
    },
    {
      "cell_type": "markdown",
      "metadata": {
        "id": "zIJnr_N2_Qaf"
      },
      "source": [
        "\n",
        "\n",
        "---\n",
        "\n",
        "## Question 8: \n",
        "\n",
        "Consider a tensor defined as `torch.rand((6, 5))`. Is the shape of the new tensor created by taking the 0th, 2nd and 4th row of the old tensor same as the shape of the a newer tensor created by taking the 0th, 2nd and 4th row of the old tensor after transposing it by operation `torch.transpose(tensor, 0, 1)` ?\n",
        "\n",
        "\n",
        "\n",
        "---\n",
        "\n",
        "\n"
      ]
    },
    {
      "cell_type": "markdown",
      "metadata": {
        "id": "jau44TY75zct"
      },
      "source": [
        "No\n"
      ]
    },
    {
      "cell_type": "markdown",
      "metadata": {
        "id": "naDzFMkslU0b"
      },
      "source": [
        "## Tensor Shapes\n",
        "\n",
        "Reshaping a tensor is a frequently used operation. We can change the shape of a tensor without the memory copying overhead. There are two methods for that: `reshape` and `view`. \n",
        "\n",
        "The difference is the following: \n",
        "\n",
        "\n",
        "*   view tries to return a tensor, and it shares the same memory with the original tensor. In case, if it cannot reuse the same memory due to [some reason](https://pytorch.org/docs/stable/tensors.html?highlight=view#torch.Tensor.view), it just fails. \n",
        "*   reshape always returns the tensor with the desired shape and tries to reuse the memory. If it cannot, it creates a copy\n",
        "\n",
        "Let's see with the help of an example:"
      ]
    },
    {
      "cell_type": "code",
      "metadata": {
        "id": "HClDkqLLlMJh",
        "colab": {
          "base_uri": "https://localhost:8080/"
        },
        "outputId": "1bca53d0-bbf9-4f59-825c-c2a70a1031e8"
      },
      "source": [
        "tensor = torch.rand(2, 3, 4)\n",
        "print('Pointer to data: ', tensor.data_ptr())\n",
        "print('Shape: ', tensor.shape)\n",
        "print('x'*20)\n",
        "reshaped = tensor.reshape(24)\n",
        "\n",
        "view = tensor.view(3, 2, 4)\n",
        "print('Reshaped tensor - pointer to data', reshaped.data_ptr())\n",
        "print('Reshaped tensor shape ', reshaped.shape)\n",
        "print('x'*20)\n",
        "print('Viewed tensor - pointer to data', view.data_ptr())\n",
        "print('Viewed tensor shape ', view.shape)\n",
        "print('x'*20)\n",
        "assert tensor.data_ptr() == view.data_ptr()\n",
        "\n",
        "assert np.all(np.equal(tensor.numpy().flat, reshaped.numpy().flat))\n",
        "\n",
        "print('Original stride: ', tensor.stride())\n",
        "print('Reshaped stride: ', reshaped.stride())\n",
        "print('Viewed stride: ', view.stride())\n",
        "print('x'*20)\n",
        "\n",
        "print(torch.rand(2, 3, 4).stride())\n",
        "x = torch.Tensor([[1, 2, 3, 4, 5], [6, 7, 8, 9, 10]])\n",
        "print(x.t())\n",
        "x.t().stride()"
      ],
      "execution_count": null,
      "outputs": [
        {
          "output_type": "stream",
          "text": [
            "Pointer to data:  106741632\n",
            "Shape:  torch.Size([2, 3, 4])\n",
            "xxxxxxxxxxxxxxxxxxxx\n",
            "Reshaped tensor - pointer to data 106741632\n",
            "Reshaped tensor shape  torch.Size([24])\n",
            "xxxxxxxxxxxxxxxxxxxx\n",
            "Viewed tensor - pointer to data 106741632\n",
            "Viewed tensor shape  torch.Size([3, 2, 4])\n",
            "xxxxxxxxxxxxxxxxxxxx\n",
            "Original stride:  (12, 4, 1)\n",
            "Reshaped stride:  (1,)\n",
            "Viewed stride:  (8, 4, 1)\n",
            "xxxxxxxxxxxxxxxxxxxx\n",
            "(12, 4, 1)\n",
            "tensor([[ 1.,  6.],\n",
            "        [ 2.,  7.],\n",
            "        [ 3.,  8.],\n",
            "        [ 4.,  9.],\n",
            "        [ 5., 10.]])\n"
          ],
          "name": "stdout"
        },
        {
          "output_type": "execute_result",
          "data": {
            "text/plain": [
              "(1, 5)"
            ]
          },
          "metadata": {
            "tags": []
          },
          "execution_count": 11
        }
      ]
    },
    {
      "cell_type": "code",
      "metadata": {
        "colab": {
          "base_uri": "https://localhost:8080/"
        },
        "id": "07Kd9shARCBF",
        "outputId": "19792264-3b85-465a-e714-037e298c20bb"
      },
      "source": [
        "np.all([[True,True],[True,False]])\n"
      ],
      "execution_count": null,
      "outputs": [
        {
          "output_type": "execute_result",
          "data": {
            "text/plain": [
              "False"
            ]
          },
          "metadata": {
            "tags": []
          },
          "execution_count": 7
        }
      ]
    },
    {
      "cell_type": "markdown",
      "metadata": {
        "id": "jIN5jSppm4yC"
      },
      "source": [
        "The basic rule about reshaping the tensor is definitely that you cannot change the total number of elements in it, so the product of all tensor's dimensions should always be the same. It gives us the ability to avoid specifying one dimension when reshaping the tensor - Pytorch can calculate it for us:"
      ]
    },
    {
      "cell_type": "code",
      "metadata": {
        "id": "e3D19ERFmzOl",
        "colab": {
          "base_uri": "https://localhost:8080/",
          "height": 71
        },
        "outputId": "b49f6393-7a79-4da7-bb31-b5d8cd885e3a"
      },
      "source": [
        "print(tensor.reshape(3, 2, 4).shape)\n",
        "print(tensor.reshape(3, 2, -1).shape)\n",
        "print(tensor.reshape(3, -1, 4).shape)"
      ],
      "execution_count": null,
      "outputs": [
        {
          "output_type": "stream",
          "text": [
            "torch.Size([3, 2, 4])\n",
            "torch.Size([3, 2, 4])\n",
            "torch.Size([3, 2, 4])\n"
          ],
          "name": "stdout"
        }
      ]
    },
    {
      "cell_type": "markdown",
      "metadata": {
        "id": "ObgCQKUiETak"
      },
      "source": [
        "\n",
        "\n",
        "---\n",
        "\n",
        "\n",
        "## Question 9:\n",
        "\n",
        "Consider a tensor `a` created with [1, 2, 3] and [1, 2, 3] of size (2, 3) is reshaped with operation `.reshape(-1, 2)`. Also consider a tensor `b` created with [[2, 1]] and of size (1, 2), later operated with `view(2, -1)` operation. \n",
        "\n",
        "If we do a dot product of a and b (using `torch.mm`) and perform the sum of all the elements (using `torch.sum`) what do we get? (enter int value without any decimal point in the quiz)\n",
        "\n",
        "\n",
        "\n",
        "---\n",
        "\n"
      ]
    },
    {
      "cell_type": "code",
      "metadata": {
        "colab": {
          "base_uri": "https://localhost:8080/"
        },
        "id": "s-n8pvY6idXE",
        "outputId": "f2260e50-c3d1-4fee-a2e8-d66c84700785"
      },
      "source": [
        "a = torch.tensor([[1,2,3],\n",
        "   [1,2,3]]).reshape(-1,2)\n",
        "a\n"
      ],
      "execution_count": null,
      "outputs": [
        {
          "output_type": "execute_result",
          "data": {
            "text/plain": [
              "tensor([[1, 2],\n",
              "        [3, 1],\n",
              "        [2, 3]])"
            ]
          },
          "metadata": {
            "tags": []
          },
          "execution_count": 21
        }
      ]
    },
    {
      "cell_type": "code",
      "metadata": {
        "colab": {
          "base_uri": "https://localhost:8080/"
        },
        "id": "li60G6NOl_8J",
        "outputId": "3e408571-330e-4b82-b56e-8e4b87468f20"
      },
      "source": [
        "b = torch.tensor([[2,1]]).view(2,-1)\n",
        "b"
      ],
      "execution_count": null,
      "outputs": [
        {
          "output_type": "execute_result",
          "data": {
            "text/plain": [
              "tensor([[2],\n",
              "        [1]])"
            ]
          },
          "metadata": {
            "tags": []
          },
          "execution_count": 22
        }
      ]
    },
    {
      "cell_type": "code",
      "metadata": {
        "colab": {
          "base_uri": "https://localhost:8080/"
        },
        "id": "5JiZrMo2mZAT",
        "outputId": "e2b5aa08-3db6-4d75-8308-e379262aa795"
      },
      "source": [
        "torch.sum(torch.mm(a,b))"
      ],
      "execution_count": null,
      "outputs": [
        {
          "output_type": "execute_result",
          "data": {
            "text/plain": [
              "tensor(18)"
            ]
          },
          "metadata": {
            "tags": []
          },
          "execution_count": 24
        }
      ]
    },
    {
      "cell_type": "markdown",
      "metadata": {
        "id": "K3jlfvyqm25G"
      },
      "source": [
        "tensor(18)"
      ]
    },
    {
      "cell_type": "markdown",
      "metadata": {
        "id": "cX2Ry29hidHw"
      },
      "source": [
        ""
      ]
    },
    {
      "cell_type": "markdown",
      "metadata": {
        "id": "mza7QPg3ndeV"
      },
      "source": [
        "**Alternative ways to view tensors** - `expand` or `expand_as`.\n",
        "\n",
        "\n",
        "\n",
        "*   `expand` - requires the desired shape as an input\n",
        "*   `expand_as` - uses the shape of another tensor\n",
        "\n",
        "These operations \"repeat\" tensor's values along the specified axes without actually copying the data. \n",
        "\n",
        "As the documentation says, expand:\n",
        "\n",
        "\n",
        "> returns a new view of the self tensor with singleton dimensions expanded to a larger size. Tensor can be also expanded to a larger number of dimensions, and the new ones will be appended at the front. For the new dimensions, the size cannot be set to -1. \n",
        "\n",
        "**Use case:**\n",
        "\n",
        "\n",
        "\n",
        "*   index multi-channel tensor with single-channel mask - imagine a color image with 3 channels (RGB) and binary mask for the area of interest on that image. We cannot index the image with this kind of mask directly since the dimensions are different, but we can use `expand_as` operation to create a view of the mask that has the same dimensions as the image we want to apply it to, but has not copied the data. "
      ]
    },
    {
      "cell_type": "code",
      "metadata": {
        "id": "iz33E-V7nPQT",
        "colab": {
          "base_uri": "https://localhost:8080/",
          "height": 1000
        },
        "outputId": "77df008c-62e4-4675-8292-8022d3dbfba8"
      },
      "source": [
        "%matplotlib inline\n",
        "from matplotlib import pyplot as plt\n",
        "\n",
        "# Create a black image\n",
        "image = torch.zeros(size=(3, 256, 256), dtype=torch.int)\n",
        "# print(image)\n",
        "\n",
        "# Leave the borders and make the rest of the image Green\n",
        "image[1, 18:256 - 18, 18:256 - 18] = 255\n",
        "print(image)\n",
        "\n",
        "# Create a mask of the same size\n",
        "mask = torch.zeros(size=(256, 256), dtype=torch.bool)\n",
        "print(mask)\n",
        "\n",
        "# Assuming the green region in the original image is the Region of interest, change the mask to white for that area\n",
        "mask[18:256 - 18, 18:256 - 18] = 1\n",
        "\n",
        "# Create a view of the mask with the same dimensions as the original image\n",
        "mask_expanded = mask.expand_as(image)\n",
        "print(mask_expanded.shape)\n",
        "\n",
        "mask_np = mask_expanded.numpy().transpose(1, 2, 0) * 255\n",
        "print(mask_np)\n",
        "image_np = image.numpy().transpose(1, 2, 0)\n",
        "\n",
        "fig, ax = plt.subplots(1, 2)\n",
        "ax[0].imshow(image_np)\n",
        "ax[1].imshow(mask_np)\n",
        "plt.show()\n",
        "\n",
        "image[0, mask] += 128\n",
        "fig, ax = plt.subplots(1, 2)\n",
        "ax[0].imshow(image_np)\n",
        "ax[1].imshow(mask_np)\n",
        "plt.show()\n",
        "\n",
        "image[mask_expanded] += 128\n",
        "image.clamp_(0, 255)\n",
        "fig, ax = plt.subplots(1, 2)\n",
        "ax[0].imshow(image_np)\n",
        "ax[1].imshow(mask_np)\n",
        "plt.show()"
      ],
      "execution_count": null,
      "outputs": [
        {
          "output_type": "stream",
          "text": [
            "tensor([[[0, 0, 0,  ..., 0, 0, 0],\n",
            "         [0, 0, 0,  ..., 0, 0, 0],\n",
            "         [0, 0, 0,  ..., 0, 0, 0],\n",
            "         ...,\n",
            "         [0, 0, 0,  ..., 0, 0, 0],\n",
            "         [0, 0, 0,  ..., 0, 0, 0],\n",
            "         [0, 0, 0,  ..., 0, 0, 0]],\n",
            "\n",
            "        [[0, 0, 0,  ..., 0, 0, 0],\n",
            "         [0, 0, 0,  ..., 0, 0, 0],\n",
            "         [0, 0, 0,  ..., 0, 0, 0],\n",
            "         ...,\n",
            "         [0, 0, 0,  ..., 0, 0, 0],\n",
            "         [0, 0, 0,  ..., 0, 0, 0],\n",
            "         [0, 0, 0,  ..., 0, 0, 0]],\n",
            "\n",
            "        [[0, 0, 0,  ..., 0, 0, 0],\n",
            "         [0, 0, 0,  ..., 0, 0, 0],\n",
            "         [0, 0, 0,  ..., 0, 0, 0],\n",
            "         ...,\n",
            "         [0, 0, 0,  ..., 0, 0, 0],\n",
            "         [0, 0, 0,  ..., 0, 0, 0],\n",
            "         [0, 0, 0,  ..., 0, 0, 0]]], dtype=torch.int32)\n",
            "tensor([[False, False, False,  ..., False, False, False],\n",
            "        [False, False, False,  ..., False, False, False],\n",
            "        [False, False, False,  ..., False, False, False],\n",
            "        ...,\n",
            "        [False, False, False,  ..., False, False, False],\n",
            "        [False, False, False,  ..., False, False, False],\n",
            "        [False, False, False,  ..., False, False, False]])\n",
            "torch.Size([3, 256, 256])\n",
            "[[[0 0 0]\n",
            "  [0 0 0]\n",
            "  [0 0 0]\n",
            "  ...\n",
            "  [0 0 0]\n",
            "  [0 0 0]\n",
            "  [0 0 0]]\n",
            "\n",
            " [[0 0 0]\n",
            "  [0 0 0]\n",
            "  [0 0 0]\n",
            "  ...\n",
            "  [0 0 0]\n",
            "  [0 0 0]\n",
            "  [0 0 0]]\n",
            "\n",
            " [[0 0 0]\n",
            "  [0 0 0]\n",
            "  [0 0 0]\n",
            "  ...\n",
            "  [0 0 0]\n",
            "  [0 0 0]\n",
            "  [0 0 0]]\n",
            "\n",
            " ...\n",
            "\n",
            " [[0 0 0]\n",
            "  [0 0 0]\n",
            "  [0 0 0]\n",
            "  ...\n",
            "  [0 0 0]\n",
            "  [0 0 0]\n",
            "  [0 0 0]]\n",
            "\n",
            " [[0 0 0]\n",
            "  [0 0 0]\n",
            "  [0 0 0]\n",
            "  ...\n",
            "  [0 0 0]\n",
            "  [0 0 0]\n",
            "  [0 0 0]]\n",
            "\n",
            " [[0 0 0]\n",
            "  [0 0 0]\n",
            "  [0 0 0]\n",
            "  ...\n",
            "  [0 0 0]\n",
            "  [0 0 0]\n",
            "  [0 0 0]]]\n"
          ],
          "name": "stdout"
        },
        {
          "output_type": "display_data",
          "data": {
            "image/png": "[encoded data removed]",
            "text/plain": [
              "<Figure size 432x288 with 2 Axes>"
            ]
          },
          "metadata": {
            "tags": [],
            "needs_background": "light"
          }
        },
        {
          "output_type": "display_data",
          "data": {
            "image/png": "[encoded data removed]",
            "text/plain": [
              "<Figure size 432x288 with 2 Axes>"
            ]
          },
          "metadata": {
            "tags": [],
            "needs_background": "light"
          }
        },
        {
          "output_type": "display_data",
          "data": {
            "image/png": "[encoded data removed]",
            "text/plain": [
              "<Figure size 432x288 with 2 Axes>"
            ]
          },
          "metadata": {
            "tags": [],
            "needs_background": "light"
          }
        }
      ]
    },
    {
      "cell_type": "markdown",
      "metadata": {
        "id": "jiXBx0k3ptOI"
      },
      "source": [
        "In the example above, one can also find a couple of useful tricks:\n",
        "\n",
        "\n",
        "*   `clamp` method and function is a Pytorch's analogue of NumPy's `clip` function\n",
        "*   many operations on tensors have in-place form, that does not return modified data, but change values in the tensor. The in-place version of the operation has trailing underscore according to Pytorch's naming convension - in the exmaple above it is `clamp_`\n",
        "*   tensors have the same indexing as Numpy's arrays - one can use `:` seperated range, negative indexes and so on.\n",
        "\n",
        "\n",
        ".\n",
        "\n",
        "\n",
        "---\n",
        "\n",
        "# Images and their representations\n",
        "\n",
        "Now, let's discuss images, their representations and how different Python librarties work with them. \n",
        "\n",
        "Probably, the most well-known library for image loading and simple processing is [Pillow](https://pillow.readthedocs.io/en/stable/). \n",
        "\n",
        "However, many people in deep learning area stick with OpenCV for image loading and processing with some usage of another libraries when it is justified by performance/functionality. This is because OpenCV is in general much faster than the other libraries. Here you can find a couple of benchmarks: \n",
        "\n",
        "*   https://www.kaggle.com/zfturbo/benchmark-2019-speed-of-image-reading\n",
        "*   https://github.com/albumentations-team/albumentations#benchmarking-results\n",
        "\n",
        "To sum up the benchmarks above, there are two most common image formats, PNG and JPEGs. If your data is in PNG format - use OpenCV to read it. If it is in JPEG - use libturbojpeg. For image processing, use OpenCV if possible. _We will be using PIL a lot along with these._\n",
        "\n",
        "As you will read the code from others, you may find out that some of them use Pillow/something else to read data. You should know, that color image representations in OpenCV and other libraries are different - OpenCV uses \"BGR\" channel order, while others use \"RGB\" one. \n",
        "\n",
        "To change \"BRG\" <-> \"RGB\" the only thing we need to do it to change channel order."
      ]
    },
    {
      "cell_type": "code",
      "metadata": {
        "id": "ZYv4sZMmpndu",
        "colab": {
          "base_uri": "https://localhost:8080/",
          "height": 152
        },
        "outputId": "e43855ea-df96-4f6d-8521-930e08257a28"
      },
      "source": [
        "%matplotlib inline\n",
        "from matplotlib import pyplot as plt\n",
        "import cv2\n",
        "\n",
        "\n",
        "bgr_image = cv2.imread('globeimage.jpg') \n",
        "#testing\n",
        "\n",
        "# remember to add your own image in case you run this block, if you want to use the same image, \n",
        "# download it from: https://encrypted-tbn0.gstatic.com/images?q=tbn%3AANd9GcRCA40ftnscVzfV8ft8e7vIzQXfXeZdtco8nknJrfCUW6INI40U\n",
        "rgb_image = bgr_image[..., ::-1]\n",
        "fig, ax = plt.subplots(1, 2)\n",
        "ax[0].imshow(bgr_image)\n",
        "ax[1].imshow(rgb_image)\n",
        "plt.show()"
      ],
      "execution_count": null,
      "outputs": [
        {
          "output_type": "display_data",
          "data": {
            "image/png": "[encoded data removed]",
            "text/plain": [
              "<Figure size 432x288 with 2 Axes>"
            ]
          },
          "metadata": {
            "tags": [],
            "needs_background": "light"
          }
        }
      ]
    },
    {
      "cell_type": "markdown",
      "metadata": {
        "id": "yoi4TeNBGHle"
      },
      "source": [
        "\n",
        "\n",
        "---\n",
        "\n",
        "## Question 10:\n",
        "\n",
        "Looking at the results above it can be said that the pixel values in the blue channels would be very small compared to red channel. True/False?\n",
        "\n",
        "\n",
        "---\n",
        "\n",
        "\n"
      ]
    },
    {
      "cell_type": "markdown",
      "metadata": {
        "id": "pWffmV-eyyKY"
      },
      "source": [
        "False"
      ]
    },
    {
      "cell_type": "markdown",
      "metadata": {
        "id": "b3ugFd57zNwa"
      },
      "source": [
        "# Autograd\n",
        "\n",
        "Pytorch supports automatic differentiation. The module which implements this is called **AutoGrad**. It calculates the gradients and keeps track in forward and backward passes. For primitive tensors, you need to enable or disable it using the `required_grad` flag. But, for advanced tensors, it is enabled by default"
      ]
    },
    {
      "cell_type": "code",
      "metadata": {
        "id": "VMOp4aiou6JR",
        "colab": {
          "base_uri": "https://localhost:8080/",
          "height": 197
        },
        "outputId": "e9a22acd-21b1-427d-c1c0-90302bc1c37a"
      },
      "source": [
        "a = torch.rand((3, 5), requires_grad = True)\n",
        "print(a)\n",
        "result = a * 5\n",
        "print(result)\n",
        "\n",
        "# grad can be implicitly created only for scalar outputs\n",
        "# so let's calculate the sum here so that the output becomes a scalar and we can apply a backward pass\n",
        "mean_result = result.sum()\n",
        "print(mean_result)\n",
        "# calculate gradient\n",
        "mean_result.backward()\n",
        "# print gradient of a\n",
        "print(a.grad)"
      ],
      "execution_count": null,
      "outputs": [
        {
          "output_type": "stream",
          "text": [
            "tensor([[0.1420, 0.0529, 0.6277, 0.6623, 0.4401],\n",
            "        [0.0893, 0.8400, 0.5712, 0.4038, 0.1173],\n",
            "        [0.3958, 0.8571, 0.1979, 0.5202, 0.4367]], requires_grad=True)\n",
            "tensor([[0.7102, 0.2647, 3.1385, 3.3117, 2.2004],\n",
            "        [0.4464, 4.2000, 2.8562, 2.0192, 0.5864],\n",
            "        [1.9788, 4.2853, 0.9895, 2.6009, 2.1835]], grad_fn=<MulBackward0>)\n",
            "tensor(31.7716, grad_fn=<SumBackward0>)\n",
            "tensor([[5., 5., 5., 5., 5.],\n",
            "        [5., 5., 5., 5., 5.],\n",
            "        [5., 5., 5., 5., 5.]])\n"
          ],
          "name": "stdout"
        }
      ]
    },
    {
      "cell_type": "code",
      "metadata": {
        "colab": {
          "base_uri": "https://localhost:8080/"
        },
        "id": "BkyVdQmNPHix",
        "outputId": "015e2e69-bf54-4937-b220-d73b2205419f"
      },
      "source": [
        "b=torch.rand((4,5), requires_grad=True)\n",
        "print(b)\n",
        "result = b*15\n",
        "print(result)\n",
        "mean_result = result.sum()\n",
        "print(mean_result)\n",
        "# calculate gradient\n",
        "mean_result.backward()\n",
        "# print gradient of a\n",
        "print(b.grad)"
      ],
      "execution_count": null,
      "outputs": [
        {
          "output_type": "stream",
          "text": [
            "tensor([[0.3877, 0.5639, 0.4215, 0.3233, 0.5905],\n",
            "        [0.8372, 0.4401, 0.6552, 0.7870, 0.6326],\n",
            "        [0.9920, 0.3999, 0.6073, 0.0935, 0.6155],\n",
            "        [0.4251, 0.2229, 0.3127, 0.5406, 0.8400]], requires_grad=True)\n",
            "tensor([[ 5.8156,  8.4591,  6.3220,  4.8493,  8.8581],\n",
            "        [12.5584,  6.6015,  9.8273, 11.8056,  9.4892],\n",
            "        [14.8804,  5.9983,  9.1088,  1.4018,  9.2325],\n",
            "        [ 6.3770,  3.3428,  4.6911,  8.1095, 12.5993]], grad_fn=<MulBackward0>)\n",
            "tensor(160.3274, grad_fn=<SumBackward0>)\n",
            "tensor([[15., 15., 15., 15., 15.],\n",
            "        [15., 15., 15., 15., 15.],\n",
            "        [15., 15., 15., 15., 15.],\n",
            "        [15., 15., 15., 15., 15.]])\n"
          ],
          "name": "stdout"
        }
      ]
    },
    {
      "cell_type": "code",
      "metadata": {
        "colab": {
          "base_uri": "https://localhost:8080/"
        },
        "id": "H4yn_NK8QhWA",
        "outputId": "5a186301-96ce-4709-d138-5c9bc4800b4e"
      },
      "source": [
        "x=torch.tensor(2.0, requires_grad=True)\n",
        "y=8*x**4+3*x**3+7*x**2+6*x+3\n",
        "y.backward()\n",
        "x.grad"
      ],
      "execution_count": null,
      "outputs": [
        {
          "output_type": "execute_result",
          "data": {
            "text/plain": [
              "tensor(326.)"
            ]
          },
          "metadata": {
            "tags": []
          },
          "execution_count": 8
        }
      ]
    },
    {
      "cell_type": "markdown",
      "metadata": {
        "id": "ym0Amk2IGfLx"
      },
      "source": [
        "\n",
        "\n",
        "---\n",
        "\n",
        "## Question 11: \n",
        "\n",
        "Why the gradient of a is all 5s above?\n",
        "\n",
        "\n",
        "\n",
        "---\n",
        "\n"
      ]
    },
    {
      "cell_type": "markdown",
      "metadata": {
        "id": "7PDgGq2R0k7I"
      },
      "source": [
        "As we see, Pytorch automagically calculated the gradient value for us. It looks to be the correct value - we multiplied an input by 5, so the gradient of this operation equals to 5.\n",
        "\n",
        "# Disabling Autograd for tensors\n",
        "\n",
        "We don't need to compute gradients for all the variables that are involved in the pipeline. The Pytorch API provides 2 ways to disable autograd.\n",
        "\n",
        "`detach` - returns a copy of the tensor with autograd disabled. This \n",
        "\n",
        "1.   copy is built on the same memory as the original tensor, so in-place size / stride / storage changes (such as resize_ / resizeas / set / transpose) modifications are not allowed.\n",
        "2.   torch.no_grad() - It is a context manager that allows you to guard a series of operations from autograd without creating new tensors."
      ]
    },
    {
      "cell_type": "code",
      "metadata": {
        "id": "yqVG9fQb0cLW",
        "colab": {
          "base_uri": "https://localhost:8080/"
        },
        "outputId": "2bd656a8-650c-4fdf-e05a-ab3c3e9248fb"
      },
      "source": [
        "a = torch.rand((3, 5), requires_grad=True)\n",
        "detached_a = a.detach()\n",
        "detached_result = detached_a * 5\n",
        "result = a * 10\n",
        "# we cannot do backward pass that is required for autograd using multideminsional output,\n",
        "# so let's calculate the sum here\n",
        "mean_result = result.sum()\n",
        "mean_result.backward()\n",
        "a.grad"
      ],
      "execution_count": null,
      "outputs": [
        {
          "output_type": "execute_result",
          "data": {
            "text/plain": [
              "tensor([[10., 10., 10., 10., 10.],\n",
              "        [10., 10., 10., 10., 10.],\n",
              "        [10., 10., 10., 10., 10.]])"
            ]
          },
          "metadata": {
            "tags": []
          },
          "execution_count": 9
        }
      ]
    },
    {
      "cell_type": "code",
      "metadata": {
        "id": "uqpch2Be02J7",
        "colab": {
          "base_uri": "https://localhost:8080/",
          "height": 71
        },
        "outputId": "0a5ee8e8-81b8-46f0-c7fc-ac406657e928"
      },
      "source": [
        "a = torch.rand((3, 5), requires_grad=True)\n",
        "with torch.no_grad():\n",
        "    detached_result = a * 5\n",
        "result = a * 10\n",
        "# we cannot do backward pass that is required for autograd using multideminsional output,\n",
        "# so let's calculate the sum here\n",
        "mean_result = result.sum()\n",
        "mean_result.backward()\n",
        "a.grad"
      ],
      "execution_count": null,
      "outputs": [
        {
          "output_type": "execute_result",
          "data": {
            "text/plain": [
              "tensor([[10., 10., 10., 10., 10.],\n",
              "        [10., 10., 10., 10., 10.],\n",
              "        [10., 10., 10., 10., 10.]])"
            ]
          },
          "metadata": {
            "tags": []
          },
          "execution_count": 38
        }
      ]
    },
    {
      "cell_type": "code",
      "metadata": {
        "colab": {
          "base_uri": "https://localhost:8080/"
        },
        "id": "gcJfsIyD47cf",
        "outputId": "d278a8b2-26a2-4f04-d398-e8f152cef0bc"
      },
      "source": [
        "x=1e-6\n",
        "x"
      ],
      "execution_count": null,
      "outputs": [
        {
          "output_type": "execute_result",
          "data": {
            "text/plain": [
              "1e-06"
            ]
          },
          "metadata": {
            "tags": []
          },
          "execution_count": 13
        }
      ]
    },
    {
      "cell_type": "markdown",
      "metadata": {
        "id": "vjh2rYOPJUAZ"
      },
      "source": [
        "# Custom Network\n",
        "\n",
        "A fully-connected ReLU network with one hidden layer and no biases, trained to predict y from x by minimizing squared Euclidean distance.\n",
        "\n",
        "This implementation uses PyTorch tensors to manually compute the forward pass, loss, and backward pass.\n",
        "\n",
        "A PyTorch Tensor is basically the same as a numpy array: it does not know anything about deep learning or computational graphs or gradients, and is just a generic n-dimensional array to be used for arbitrary numeric computation.\n",
        "\n",
        "The biggest difference between a numpy array and a PyTorch Tensor is that a PyTorch Tensor can run on either CPU or GPU. To run operations on the GPU, just cast the Tensor to a cuda datatype."
      ]
    },
    {
      "cell_type": "code",
      "metadata": {
        "id": "0nf5RaB104Vp",
        "colab": {
          "base_uri": "https://localhost:8080/"
        },
        "outputId": "0c2f42e9-ed44-4e52-853b-8b1466fb48a1"
      },
      "source": [
        "dtype = torch.float\n",
        "device = torch.device(\"cpu\")\n",
        "# device = torch.device(\"cuda:0\") # Uncomment this to run on GPU\n",
        "\n",
        "# N is batch size; D_in is input dimension;\n",
        "# H is hidden dimension; D_out is output dimension.\n",
        "N, D_in, H, D_out = 64, 1000, 100, 10\n",
        "\n",
        "# Create random input and output data\n",
        "x = torch.randn(N, D_in, device=device, dtype=dtype)\n",
        "print(x)\n",
        "y = torch.randn(N, D_out, device=device, dtype=dtype)\n",
        "print(y)\n",
        "# Randomly initialize weights\n",
        "w1 = torch.randn(D_in, H, device=device, dtype=dtype)\n",
        "w2 = torch.randn(H, D_out, device=device, dtype=dtype)\n",
        "\n",
        "learning_rate = 1e-6\n",
        "for t in range(500):\n",
        "    # Forward pass: compute predicted y\n",
        "    h = x.mm(w1)\n",
        "    h_relu = h.clamp(min=0)\n",
        "    y_pred = h_relu.mm(w2)\n",
        "\n",
        "    # Compute and print loss\n",
        "    loss = (y_pred - y).pow(2).sum().item()\n",
        "    print(t, loss)\n",
        "\n",
        "    # Backprop to compute gradients of w1 and w2 with respect to loss\n",
        "    grad_y_pred = 2*(y_pred - y)\n",
        "    grad_w2 = h_relu.t().mm(grad_y_pred)\n",
        "    grad_h_relu = grad_y_pred.mm(w2.t())\n",
        "    grad_h = grad_h_relu.clone()\n",
        "    grad_h[h < 0] = 0\n",
        "    grad_w1 = x.t().mm(grad_h)\n",
        "\n",
        "    # Update weights using gradient descent\n",
        "    w1 -= learning_rate * grad_w1\n",
        "    w2 -= learning_rate * grad_w2"
      ],
      "execution_count": null,
      "outputs": [
        {
          "output_type": "stream",
          "text": [
            "tensor([[-1.5358, -2.1213,  0.2257,  ...,  0.4464, -1.0751, -0.6524],\n",
            "        [ 0.5016, -0.5708,  0.5187,  ..., -1.4159, -1.0813, -0.8866],\n",
            "        [ 0.1323, -0.2142, -0.1180,  ...,  0.3175,  0.0579, -1.0399],\n",
            "        ...,\n",
            "        [-2.1776,  1.4148, -0.6765,  ..., -0.1035, -0.2440, -1.4680],\n",
            "        [ 0.3094, -0.6734,  1.6844,  ...,  0.2700,  0.0451,  0.7579],\n",
            "        [-1.2432, -0.1760, -0.9821,  ...,  0.6548,  1.7105, -0.1998]])\n",
            "tensor([[-1.3700e+00, -5.8635e-01,  3.7315e-01, -2.6689e+00, -1.0111e-02,\n",
            "          7.0651e-01, -1.6995e-01,  8.6909e-01,  1.1697e+00, -1.7667e+00],\n",
            "        [ 1.3134e+00,  9.0526e-03,  1.3033e+00,  2.8880e-01,  3.2253e-01,\n",
            "         -2.8124e+00,  2.6585e-01,  2.5602e-01,  4.9772e-01,  8.4817e-01],\n",
            "        [ 1.0244e+00, -9.1175e-01,  1.7089e+00,  8.6911e-01, -2.4813e-01,\n",
            "         -1.2078e+00,  2.3891e-01,  1.8243e+00,  7.8236e-01, -7.2419e-01],\n",
            "        [ 1.8982e-01,  4.9565e-01, -1.5803e+00, -1.6486e+00, -8.1425e-01,\n",
            "         -8.8998e-02, -1.4406e+00,  2.0159e-01, -6.4698e-02,  5.7053e-01],\n",
            "        [-6.5458e-01, -1.0796e+00, -9.9706e-01, -1.6537e+00, -1.1954e+00,\n",
            "          7.2037e-01, -8.7471e-02, -3.8804e-01, -1.0621e+00,  2.0681e-01],\n",
            "        [ 1.1760e+00,  9.5084e-01, -3.1131e-01, -1.1297e+00, -1.8064e+00,\n",
            "         -3.6984e-01,  1.1108e-01, -1.8929e-01,  4.4662e-01,  1.0562e+00],\n",
            "        [-4.3173e-02, -2.3396e-01,  1.9619e-01, -1.4557e+00, -5.2160e-02,\n",
            "         -3.5633e-01, -1.0762e+00,  1.1496e-01,  3.0910e-01, -2.7864e-02],\n",
            "        [ 4.0099e-01, -1.8884e+00, -1.9235e-01,  1.1249e-01, -4.3844e-01,\n",
            "         -3.0311e-01,  8.1290e-01,  3.8605e-01, -2.0673e+00, -6.0080e-01],\n",
            "        [-1.1169e+00, -6.1634e-01, -1.9034e+00, -8.8114e-02, -1.9945e-01,\n",
            "          1.0960e+00, -5.0559e-02, -8.3478e-01,  3.3660e-01, -5.5136e-01],\n",
            "        [ 6.8488e-01,  1.2810e+00, -1.2263e-01,  5.1111e-01,  1.4881e+00,\n",
            "          5.7949e-01, -6.4798e-01,  8.6543e-01, -8.8241e-01,  1.0259e+00],\n",
            "        [-5.3483e-01, -1.6882e+00,  1.6432e+00, -5.0524e-01, -1.9773e-01,\n",
            "         -1.2906e-01,  1.7933e+00,  1.6016e-01, -2.2875e+00,  1.5961e+00],\n",
            "        [-3.1773e-01, -1.8137e-01, -1.3908e-01, -2.9331e-01,  1.2700e+00,\n",
            "          1.0726e+00, -1.0907e+00, -8.1682e-01, -3.9943e-02,  7.0020e-02],\n",
            "        [-4.7325e-01,  5.5748e-01,  1.7336e+00,  9.3941e-01,  2.5697e-01,\n",
            "          1.9837e-01,  1.3323e+00, -8.8620e-02,  1.7988e-01, -7.0258e-01],\n",
            "        [-1.2106e+00, -9.6982e-01,  7.7627e-01,  5.3146e-01, -2.7662e-01,\n",
            "          1.7559e+00,  1.0811e-01,  5.8367e-01,  2.5384e-01, -5.2325e-01],\n",
            "        [-8.7700e-01, -6.4747e-01,  6.5002e-02, -1.4175e+00,  9.6692e-02,\n",
            "          9.9599e-01,  6.4131e-01,  9.6630e-01, -2.5021e-01, -1.2455e+00],\n",
            "        [ 2.4771e+00, -1.0038e+00, -2.9263e-01, -8.9648e-02,  7.2278e-01,\n",
            "          9.0253e-01,  2.1183e+00, -8.2295e-01,  4.2058e-01,  7.7815e-02],\n",
            "        [-1.8006e+00,  2.0721e-01,  1.2819e-01,  1.0324e+00, -1.5511e+00,\n",
            "          9.5808e-01,  1.4253e+00, -1.5529e+00,  7.8186e-01, -1.7099e+00],\n",
            "        [ 1.1339e+00, -3.3088e-01,  4.7912e-01, -1.1243e+00, -1.4631e+00,\n",
            "          1.6132e+00, -1.0153e+00, -1.3950e+00, -6.6098e-02, -5.4470e-01],\n",
            "        [-9.8982e-02,  6.0969e-01, -1.4479e-01,  1.1390e+00, -6.7037e-01,\n",
            "         -9.2106e-01,  1.1096e+00,  1.9121e-01,  6.7545e-01, -6.9577e-01],\n",
            "        [-4.6177e-01,  2.5139e-01,  2.3251e-01,  9.5321e-01,  4.9466e-02,\n",
            "          1.7367e+00, -6.9154e-01, -6.0782e-01, -9.0469e-01,  1.1002e+00],\n",
            "        [ 1.8696e+00, -1.7777e+00, -5.7012e-01, -7.0333e-01, -6.3183e-01,\n",
            "         -2.2273e-01, -2.1401e-01,  1.0637e+00,  1.6134e+00,  1.2913e+00],\n",
            "        [ 6.9505e-01,  5.2032e-01, -2.5719e-01, -1.8418e-01,  7.5692e-01,\n",
            "          9.9257e-01,  5.4539e-01,  2.4519e-01,  2.0212e+00, -3.2502e-01],\n",
            "        [-6.2030e-01,  1.1733e+00,  3.4114e-01, -6.2155e-01,  7.2907e-01,\n",
            "          2.3116e-01,  4.8400e-01, -9.3331e-02, -7.4156e-01, -3.1276e-01],\n",
            "        [-1.4881e+00, -1.1467e-01, -4.2221e-01, -4.2088e-02, -5.0256e-01,\n",
            "          4.5801e-01, -9.6180e-01, -1.9238e+00,  2.1504e+00,  7.4178e-02],\n",
            "        [ 3.5266e-01,  6.3841e-01,  2.4020e-01, -1.2913e+00,  1.9909e+00,\n",
            "         -1.1311e+00, -5.9834e-01, -1.5840e+00,  6.6748e-01,  3.7221e-01],\n",
            "        [ 1.0354e+00,  5.2108e-01,  1.0908e-01,  1.2988e+00,  1.2861e+00,\n",
            "         -1.1300e+00,  7.6871e-01, -2.5817e-01,  4.0185e-02,  2.1411e-01],\n",
            "        [-5.6694e-01, -6.6184e-01,  7.6766e-01, -1.1660e+00,  3.3846e-01,\n",
            "          1.7070e+00, -7.8003e-02,  6.9634e-02,  2.4800e-01,  1.3039e+00],\n",
            "        [-5.7571e-01,  5.6215e-01, -1.8286e-03, -1.1522e+00, -2.7140e+00,\n",
            "         -2.3121e-01, -2.6068e-01,  3.4016e-02, -8.6747e-01, -3.7597e-01],\n",
            "        [ 7.9598e-01,  7.7636e-01, -8.9482e-01,  1.0464e+00,  3.1344e-01,\n",
            "          4.8148e-01,  2.9755e-01, -5.0014e-01, -1.0113e+00,  1.2433e+00],\n",
            "        [-3.9263e-02,  4.7570e-01,  1.2599e-01,  2.8437e-01, -1.4078e+00,\n",
            "          1.1394e+00, -6.1797e-01, -9.9019e-01, -9.3729e-03,  8.3019e-01],\n",
            "        [ 4.4071e-01, -8.5637e-01, -3.4768e+00, -2.0894e-01,  7.1264e-01,\n",
            "         -7.7082e-01, -3.3618e-01,  5.9889e-01, -1.0815e-01,  8.5217e-01],\n",
            "        [ 1.2782e+00, -1.4924e+00,  7.7962e-01, -6.6727e-01,  6.3321e-01,\n",
            "          4.3855e-01, -5.7204e-01,  6.9065e-01,  9.3945e-02,  1.4197e-02],\n",
            "        [ 1.7273e+00, -1.1393e+00,  6.2623e-01,  9.7090e-01, -1.5068e+00,\n",
            "          1.1589e+00,  8.5678e-01,  1.2457e-01, -7.4142e-01,  1.6693e+00],\n",
            "        [-1.3728e+00,  8.4222e-01,  1.9095e+00, -1.1755e-01,  4.3974e-01,\n",
            "          1.0479e+00, -8.5650e-02, -8.9693e-01,  3.7739e-02,  1.8508e+00],\n",
            "        [ 6.7419e-01, -9.4675e-01,  7.8573e-02,  1.7481e+00,  6.4383e-01,\n",
            "          1.1807e-01,  1.3200e-01, -1.1332e+00, -1.1728e+00,  5.2352e-01],\n",
            "        [-4.3381e-01,  7.0410e-01, -1.7600e-01,  9.5339e-01, -1.1422e-02,\n",
            "          7.5449e-01, -1.6223e+00,  1.4349e+00,  1.6764e+00,  2.1302e-01],\n",
            "        [ 1.4578e+00, -3.6841e-01,  5.0739e-01, -1.9278e+00,  1.3475e+00,\n",
            "          4.2257e-01,  1.5130e+00,  1.4386e+00,  3.6167e-01,  2.4255e-01],\n",
            "        [-8.9288e-01,  1.3994e+00,  1.7622e-01,  1.8166e+00,  6.3786e-01,\n",
            "          1.0347e-01,  2.5772e+00, -9.0332e-02,  3.9320e-01, -9.3170e-01],\n",
            "        [ 1.0009e-01,  6.2441e-01,  3.7050e-01,  1.1594e-01,  4.5106e-01,\n",
            "         -1.3571e+00, -2.1217e+00, -1.8870e+00,  1.5370e+00,  7.2990e-02],\n",
            "        [ 5.9181e-01, -4.6409e-01,  1.3934e-01,  8.3414e-01, -1.1510e+00,\n",
            "          9.6631e-01,  2.7701e-01,  1.4577e+00, -1.3875e+00,  1.9749e+00],\n",
            "        [ 4.6483e-02, -6.7805e-01,  3.3211e-01,  3.0530e-01,  1.1114e+00,\n",
            "          2.1910e+00,  1.6084e-01, -8.0775e-01, -6.0614e-01, -1.3202e-01],\n",
            "        [-6.0700e-02, -1.1859e+00,  4.3848e-01,  9.4562e-01,  1.1985e+00,\n",
            "         -1.1362e-01, -1.0645e-01, -9.8950e-02,  1.3681e+00,  1.1089e+00],\n",
            "        [ 2.2907e-01, -8.2973e-01,  3.6108e-01,  1.4621e+00, -4.5836e-01,\n",
            "         -2.1903e+00, -4.2221e-01, -1.7965e+00,  3.5857e-01, -1.1103e+00],\n",
            "        [ 8.3633e-02,  1.0371e+00,  9.4864e-01, -3.2046e-01,  8.9689e-01,\n",
            "         -2.3954e+00, -6.3325e-01,  6.0317e-01, -1.1360e+00,  1.5507e+00],\n",
            "        [ 6.5291e-02, -3.3605e-01,  2.3866e-01, -1.6630e-01,  1.0634e+00,\n",
            "          3.1688e-01, -5.6205e-01,  1.7240e+00,  1.0379e+00, -5.2586e-01],\n",
            "        [ 1.5115e+00, -1.9400e-02, -4.8499e-01, -2.0091e-01, -1.5345e+00,\n",
            "         -7.6338e-01, -2.7167e-02, -6.2449e-02,  2.2189e+00,  7.7954e-01],\n",
            "        [ 2.3259e+00,  4.8114e-02, -1.3508e+00,  7.6020e-01,  1.0842e+00,\n",
            "          1.0491e+00,  6.6199e-01,  4.8401e-02, -4.6607e-01,  1.0567e+00],\n",
            "        [ 1.0191e+00,  1.4765e+00, -2.7258e+00,  2.2201e-01,  3.6495e-01,\n",
            "          1.0086e+00, -6.7033e-01, -8.5775e-01, -1.3292e+00, -1.9445e+00],\n",
            "        [-1.1735e+00, -2.3349e-02, -9.7868e-01,  1.0887e-01,  3.8872e-01,\n",
            "          1.0926e-01,  6.4019e-01, -1.4256e+00, -3.0211e-01, -1.3886e+00],\n",
            "        [-7.0251e-02, -2.5695e-01,  1.2861e+00,  2.2636e-02, -2.4984e-01,\n",
            "         -1.5417e+00,  8.5667e-01,  3.8696e-01, -7.7224e-02, -4.6288e-02],\n",
            "        [-1.3675e+00,  1.4585e-02,  5.4213e-01, -1.1366e+00, -5.8854e-02,\n",
            "         -8.2668e-01,  1.0003e+00,  1.0134e-02, -3.2781e-01,  6.3789e-01],\n",
            "        [ 2.9052e+00,  2.7637e-01,  5.3396e-01, -6.7002e-01,  3.3148e-01,\n",
            "         -6.7073e-01,  1.8002e-01,  5.4659e-01, -2.6934e-01,  4.1702e-01],\n",
            "        [-6.7070e-01, -3.3888e-02, -2.4120e-01,  9.6197e-01, -2.1480e-01,\n",
            "          2.7348e+00,  1.1374e+00, -1.0335e+00, -6.1981e-01, -1.4499e+00],\n",
            "        [-1.1720e+00,  1.1841e+00, -4.9357e-01, -7.0853e-01, -4.9747e-02,\n",
            "         -1.4898e+00, -1.3701e+00, -4.4572e-01,  6.3953e-01,  4.9581e-01],\n",
            "        [ 3.3572e-01, -1.2156e+00, -1.2413e+00, -2.0799e-01,  7.0212e-01,\n",
            "         -2.8655e-01,  9.4204e-01,  3.1964e-01,  2.0273e+00,  9.5357e-01],\n",
            "        [ 4.4092e-01,  1.1039e+00, -1.1304e+00, -1.7031e-01,  4.6828e-01,\n",
            "          3.3368e-01, -2.5486e-01, -4.3035e-01, -1.4421e+00,  1.0124e+00],\n",
            "        [-3.3586e-01,  7.5343e-01, -4.6219e-02, -1.2875e+00,  6.8694e-01,\n",
            "          1.6201e-01, -4.0172e-01, -1.0921e+00, -1.9442e+00,  1.0329e-01],\n",
            "        [ 2.7587e+00, -1.8957e-01,  1.4873e+00,  7.8509e-01,  5.1546e-01,\n",
            "         -1.0346e+00, -1.3660e+00, -1.3105e+00, -1.2664e+00, -5.1266e-02],\n",
            "        [ 9.6912e-01,  1.5580e-01,  9.1932e-02, -9.4646e-01,  4.5146e-01,\n",
            "         -4.6888e-01,  9.9506e-01,  1.4703e-02, -4.9286e-01,  5.9387e-01],\n",
            "        [-8.0438e-01, -1.7381e+00,  2.1208e+00, -1.0027e+00, -1.7958e-01,\n",
            "          1.0480e+00,  2.5041e-01,  1.1160e+00, -1.0849e+00, -6.8470e-01],\n",
            "        [ 8.3641e-02,  1.4250e-01, -7.5208e-02, -1.2171e+00,  6.3551e-01,\n",
            "         -1.0103e+00, -1.1609e+00, -7.6038e-01, -1.8399e+00,  7.1159e-01],\n",
            "        [-2.6726e-01, -8.6606e-01, -8.2820e-01,  8.2191e-02,  2.0870e+00,\n",
            "          1.2798e+00,  1.3590e+00, -9.0719e-01, -3.0933e-01,  3.1029e-01],\n",
            "        [ 6.6289e-01,  4.6683e-01, -7.7787e-01,  3.1527e-01, -1.5125e-01,\n",
            "         -1.0342e+00, -1.4502e+00,  1.2635e-02,  3.6522e-02, -3.2554e-01],\n",
            "        [-4.8857e-01, -6.4775e-01, -9.0373e-01, -1.4166e+00,  1.3034e+00,\n",
            "         -7.5582e-01, -7.8056e-01, -7.5438e-01, -8.3174e-01,  3.4519e-01]])\n",
            "0 35017656.0\n",
            "1 36887400.0\n",
            "2 44789436.0\n",
            "3 48419156.0\n",
            "4 39386768.0\n",
            "5 21795180.0\n",
            "6 9000738.0\n",
            "7 3575981.0\n",
            "8 1801334.25\n",
            "9 1185583.5\n",
            "10 910360.375\n",
            "11 745790.75\n",
            "12 627789.8125\n",
            "13 535518.375\n",
            "14 460748.1875\n",
            "15 399129.4375\n",
            "16 347861.9375\n",
            "17 304728.09375\n",
            "18 268207.46875\n",
            "19 237088.28125\n",
            "20 210421.21875\n",
            "21 187424.921875\n",
            "22 167494.9375\n",
            "23 150162.34375\n",
            "24 135022.171875\n",
            "25 121737.21875\n",
            "26 110025.765625\n",
            "27 99674.71875\n",
            "28 90509.4296875\n",
            "29 82358.828125\n",
            "30 75086.6171875\n",
            "31 68582.9609375\n",
            "32 62754.30078125\n",
            "33 57518.453125\n",
            "34 52799.5234375\n",
            "35 48538.453125\n",
            "36 44682.90625\n",
            "37 41188.17578125\n",
            "38 38013.34375\n",
            "39 35124.94921875\n",
            "40 32493.21875\n",
            "41 30094.69921875\n",
            "42 27903.75390625\n",
            "43 25899.9375\n",
            "44 24064.958984375\n",
            "45 22382.279296875\n",
            "46 20836.81640625\n",
            "47 19414.541015625\n",
            "48 18103.63671875\n",
            "49 16892.541015625\n",
            "50 15774.5732421875\n",
            "51 14741.541015625\n",
            "52 13785.3154296875\n",
            "53 12899.841796875\n",
            "54 12078.771484375\n",
            "55 11317.228515625\n",
            "56 10609.6640625\n",
            "57 9951.775390625\n",
            "58 9340.0068359375\n",
            "59 8770.8837890625\n",
            "60 8240.56640625\n",
            "61 7745.99169921875\n",
            "62 7284.34375\n",
            "63 6853.38623046875\n",
            "64 6450.8154296875\n",
            "65 6074.662109375\n",
            "66 5722.837890625\n",
            "67 5393.4443359375\n",
            "68 5084.9638671875\n",
            "69 4796.01220703125\n",
            "70 4524.9921875\n",
            "71 4270.74755859375\n",
            "72 4032.323974609375\n",
            "73 3808.5185546875\n",
            "74 3598.326171875\n",
            "75 3400.737548828125\n",
            "76 3214.967041015625\n",
            "77 3040.23388671875\n",
            "78 2875.797607421875\n",
            "79 2721.041748046875\n",
            "80 2575.298095703125\n",
            "81 2437.9853515625\n",
            "82 2308.590087890625\n",
            "83 2186.55615234375\n",
            "84 2071.531494140625\n",
            "85 1962.9560546875\n",
            "86 1860.53759765625\n",
            "87 1763.8448486328125\n",
            "88 1672.562744140625\n",
            "89 1586.307861328125\n",
            "90 1504.794921875\n",
            "91 1427.7647705078125\n",
            "92 1354.965576171875\n",
            "93 1286.115478515625\n",
            "94 1221.00390625\n",
            "95 1159.376708984375\n",
            "96 1101.0645751953125\n",
            "97 1045.8802490234375\n",
            "98 993.6373291015625\n",
            "99 944.1370849609375\n",
            "100 897.2561645507812\n",
            "101 852.8309326171875\n",
            "102 810.7435302734375\n",
            "103 770.853271484375\n",
            "104 733.0318603515625\n",
            "105 697.1641845703125\n",
            "106 663.1507568359375\n",
            "107 630.9129638671875\n",
            "108 600.315185546875\n",
            "109 571.2770385742188\n",
            "110 543.7122802734375\n",
            "111 517.5555419921875\n",
            "112 492.7159423828125\n",
            "113 469.12908935546875\n",
            "114 446.72369384765625\n",
            "115 425.44891357421875\n",
            "116 405.2471923828125\n",
            "117 386.05511474609375\n",
            "118 367.80242919921875\n",
            "119 350.4583740234375\n",
            "120 333.9759826660156\n",
            "121 318.2963562011719\n",
            "122 303.38427734375\n",
            "123 289.20281982421875\n",
            "124 275.71087646484375\n",
            "125 262.88177490234375\n",
            "126 250.67176818847656\n",
            "127 239.0561065673828\n",
            "128 227.9964599609375\n",
            "129 217.4713897705078\n",
            "130 207.45333862304688\n",
            "131 197.9136199951172\n",
            "132 188.83717346191406\n",
            "133 180.19300842285156\n",
            "134 171.96054077148438\n",
            "135 164.11538696289062\n",
            "136 156.64346313476562\n",
            "137 149.52423095703125\n",
            "138 142.7416534423828\n",
            "139 136.27821350097656\n",
            "140 130.1173858642578\n",
            "141 124.24859619140625\n",
            "142 118.6530990600586\n",
            "143 113.32320404052734\n",
            "144 108.23778533935547\n",
            "145 103.38990783691406\n",
            "146 98.767578125\n",
            "147 94.35812377929688\n",
            "148 90.15204620361328\n",
            "149 86.13912963867188\n",
            "150 82.31109619140625\n",
            "151 78.66085815429688\n",
            "152 75.17713928222656\n",
            "153 71.85249328613281\n",
            "154 68.68023681640625\n",
            "155 65.65216064453125\n",
            "156 62.762351989746094\n",
            "157 60.00321960449219\n",
            "158 57.37042236328125\n",
            "159 54.858314514160156\n",
            "160 52.4582405090332\n",
            "161 50.16639709472656\n",
            "162 47.97589874267578\n",
            "163 45.88618469238281\n",
            "164 43.890316009521484\n",
            "165 41.98341369628906\n",
            "166 40.16173553466797\n",
            "167 38.421142578125\n",
            "168 36.75961685180664\n",
            "169 35.17104721069336\n",
            "170 33.653194427490234\n",
            "171 32.20402526855469\n",
            "172 30.818431854248047\n",
            "173 29.493488311767578\n",
            "174 28.227689743041992\n",
            "175 27.017915725708008\n",
            "176 25.862096786499023\n",
            "177 24.756235122680664\n",
            "178 23.698606491088867\n",
            "179 22.68815803527832\n",
            "180 21.721757888793945\n",
            "181 20.797409057617188\n",
            "182 19.91357421875\n",
            "183 19.06890869140625\n",
            "184 18.261201858520508\n",
            "185 17.488309860229492\n",
            "186 16.748472213745117\n",
            "187 16.04189109802246\n",
            "188 15.364619255065918\n",
            "189 14.717548370361328\n",
            "190 14.098562240600586\n",
            "191 13.5058012008667\n",
            "192 12.938796043395996\n",
            "193 12.396331787109375\n",
            "194 11.877225875854492\n",
            "195 11.380195617675781\n",
            "196 10.904685974121094\n",
            "197 10.449299812316895\n",
            "198 10.013686180114746\n",
            "199 9.597021102905273\n",
            "200 9.197358131408691\n",
            "201 8.815539360046387\n",
            "202 8.449607849121094\n",
            "203 8.099015235900879\n",
            "204 7.763545989990234\n",
            "205 7.442643165588379\n",
            "206 7.134530544281006\n",
            "207 6.840293884277344\n",
            "208 6.557863712310791\n",
            "209 6.287757873535156\n",
            "210 6.028841495513916\n",
            "211 5.780924320220947\n",
            "212 5.543583869934082\n",
            "213 5.316042423248291\n",
            "214 5.0981645584106445\n",
            "215 4.889408111572266\n",
            "216 4.689227104187012\n",
            "217 4.497743606567383\n",
            "218 4.313891887664795\n",
            "219 4.137975692749023\n",
            "220 3.9693448543548584\n",
            "221 3.8077876567840576\n",
            "222 3.6529645919799805\n",
            "223 3.504530906677246\n",
            "224 3.362248420715332\n",
            "225 3.2258496284484863\n",
            "226 3.0952818393707275\n",
            "227 2.9698286056518555\n",
            "228 2.8496649265289307\n",
            "229 2.734635353088379\n",
            "230 2.624081611633301\n",
            "231 2.5183959007263184\n",
            "232 2.41682767868042\n",
            "233 2.319523811340332\n",
            "234 2.226173162460327\n",
            "235 2.136935234069824\n",
            "236 2.0511186122894287\n",
            "237 1.9688293933868408\n",
            "238 1.8897912502288818\n",
            "239 1.8139578104019165\n",
            "240 1.741391658782959\n",
            "241 1.6718201637268066\n",
            "242 1.60512113571167\n",
            "243 1.5408401489257812\n",
            "244 1.4794749021530151\n",
            "245 1.4206032752990723\n",
            "246 1.3640996217727661\n",
            "247 1.3098031282424927\n",
            "248 1.2576587200164795\n",
            "249 1.2078286409378052\n",
            "250 1.1599256992340088\n",
            "251 1.113801121711731\n",
            "252 1.0696965456008911\n",
            "253 1.027317762374878\n",
            "254 0.9866458177566528\n",
            "255 0.9478024244308472\n",
            "256 0.910305380821228\n",
            "257 0.8743815422058105\n",
            "258 0.8398523926734924\n",
            "259 0.8067428469657898\n",
            "260 0.77498459815979\n",
            "261 0.7444092631340027\n",
            "262 0.7151080369949341\n",
            "263 0.6870681643486023\n",
            "264 0.6600555181503296\n",
            "265 0.6341674327850342\n",
            "266 0.6093223094940186\n",
            "267 0.5855035781860352\n",
            "268 0.5625856518745422\n",
            "269 0.5404824614524841\n",
            "270 0.5193469524383545\n",
            "271 0.4991593658924103\n",
            "272 0.4796674847602844\n",
            "273 0.4609643816947937\n",
            "274 0.4429834187030792\n",
            "275 0.42564237117767334\n",
            "276 0.40905332565307617\n",
            "277 0.3931596279144287\n",
            "278 0.3778756558895111\n",
            "279 0.3632045090198517\n",
            "280 0.34910663962364197\n",
            "281 0.33556127548217773\n",
            "282 0.3225591480731964\n",
            "283 0.31007662415504456\n",
            "284 0.29804423451423645\n",
            "285 0.2864460051059723\n",
            "286 0.27539828419685364\n",
            "287 0.2647494077682495\n",
            "288 0.25454163551330566\n",
            "289 0.24467815458774567\n",
            "290 0.23523956537246704\n",
            "291 0.2261783331632614\n",
            "292 0.2174689620733261\n",
            "293 0.20910578966140747\n",
            "294 0.20106428861618042\n",
            "295 0.19330041110515594\n",
            "296 0.1858149766921997\n",
            "297 0.17871831357479095\n",
            "298 0.1718578338623047\n",
            "299 0.16528545320034027\n",
            "300 0.15890544652938843\n",
            "301 0.15283973515033722\n",
            "302 0.14697887003421783\n",
            "303 0.1413278430700302\n",
            "304 0.13592106103897095\n",
            "305 0.13073815405368805\n",
            "306 0.12576629221439362\n",
            "307 0.12095094472169876\n",
            "308 0.11636289954185486\n",
            "309 0.11190058290958405\n",
            "310 0.10764475166797638\n",
            "311 0.10353406518697739\n",
            "312 0.09957845509052277\n",
            "313 0.09580224752426147\n",
            "314 0.09214196354150772\n",
            "315 0.0886404886841774\n",
            "316 0.08526631444692612\n",
            "317 0.08202419430017471\n",
            "318 0.07890824973583221\n",
            "319 0.07590316236019135\n",
            "320 0.07302380353212357\n",
            "321 0.07027004659175873\n",
            "322 0.06758849322795868\n",
            "323 0.0650409683585167\n",
            "324 0.06258779019117355\n",
            "325 0.06022457033395767\n",
            "326 0.057963281869888306\n",
            "327 0.0557800754904747\n",
            "328 0.05367671698331833\n",
            "329 0.051650166511535645\n",
            "330 0.0496966689825058\n",
            "331 0.047821130603551865\n",
            "332 0.046029116958379745\n",
            "333 0.044303447008132935\n",
            "334 0.04262147098779678\n",
            "335 0.041036248207092285\n",
            "336 0.03950003534555435\n",
            "337 0.038024790585041046\n",
            "338 0.036593254655599594\n",
            "339 0.03521081805229187\n",
            "340 0.033906225115060806\n",
            "341 0.03262554481625557\n",
            "342 0.03140753135085106\n",
            "343 0.03023344837129116\n",
            "344 0.029116321355104446\n",
            "345 0.02802964299917221\n",
            "346 0.0269756019115448\n",
            "347 0.025989403948187828\n",
            "348 0.025014130398631096\n",
            "349 0.024078741669654846\n",
            "350 0.023193297907710075\n",
            "351 0.022333180531859398\n",
            "352 0.021506693214178085\n",
            "353 0.020707163959741592\n",
            "354 0.019948560744524002\n",
            "355 0.01921479031443596\n",
            "356 0.0185075830668211\n",
            "357 0.01781473495066166\n",
            "358 0.01715938001871109\n",
            "359 0.01653902605175972\n",
            "360 0.01593783125281334\n",
            "361 0.015347212553024292\n",
            "362 0.014787532389163971\n",
            "363 0.014247335493564606\n",
            "364 0.013728085905313492\n",
            "365 0.013225150294601917\n",
            "366 0.012747567147016525\n",
            "367 0.012279888615012169\n",
            "368 0.011837175115942955\n",
            "369 0.011411997489631176\n",
            "370 0.011000319384038448\n",
            "371 0.010601656511425972\n",
            "372 0.010227572172880173\n",
            "373 0.009859342128038406\n",
            "374 0.009505595080554485\n",
            "375 0.009168023243546486\n",
            "376 0.008839743211865425\n",
            "377 0.008519022725522518\n",
            "378 0.008212113752961159\n",
            "379 0.007922514341771603\n",
            "380 0.007638905197381973\n",
            "381 0.007371598854660988\n",
            "382 0.0071122897788882256\n",
            "383 0.00686107762157917\n",
            "384 0.006624747067689896\n",
            "385 0.006391626782715321\n",
            "386 0.00616217078641057\n",
            "387 0.005950313061475754\n",
            "388 0.005748834926635027\n",
            "389 0.005547232925891876\n",
            "390 0.005354051943868399\n",
            "391 0.005173089914023876\n",
            "392 0.004998126532882452\n",
            "393 0.004824399948120117\n",
            "394 0.004661169834434986\n",
            "395 0.0045006414875388145\n",
            "396 0.0043510752730071545\n",
            "397 0.004204044118523598\n",
            "398 0.00406539486721158\n",
            "399 0.003930750302970409\n",
            "400 0.003797688987106085\n",
            "401 0.0036709147971123457\n",
            "402 0.0035515869967639446\n",
            "403 0.003437089268118143\n",
            "404 0.003321937518194318\n",
            "405 0.0032093687914311886\n",
            "406 0.003106754506006837\n",
            "407 0.003004266880452633\n",
            "408 0.0029105471912771463\n",
            "409 0.002815446350723505\n",
            "410 0.00272498931735754\n",
            "411 0.002637523924931884\n",
            "412 0.0025525959208607674\n",
            "413 0.0024715035688132048\n",
            "414 0.002394038252532482\n",
            "415 0.002318757586181164\n",
            "416 0.002246032003313303\n",
            "417 0.002176194917410612\n",
            "418 0.002109209541231394\n",
            "419 0.002046093577519059\n",
            "420 0.0019831156823784113\n",
            "421 0.001922228722833097\n",
            "422 0.001864238060079515\n",
            "423 0.0018065719632431865\n",
            "424 0.0017529246397316456\n",
            "425 0.0017010732553899288\n",
            "426 0.0016500171041116118\n",
            "427 0.0016006708610802889\n",
            "428 0.0015515524428337812\n",
            "429 0.0015042638406157494\n",
            "430 0.0014589970232918859\n",
            "431 0.0014176463009789586\n",
            "432 0.0013750526122748852\n",
            "433 0.0013343701139092445\n",
            "434 0.001295831403695047\n",
            "435 0.0012594072613865137\n",
            "436 0.0012245549587532878\n",
            "437 0.0011892912443727255\n",
            "438 0.0011541058775037527\n",
            "439 0.001122429035604\n",
            "440 0.0010915957391262054\n",
            "441 0.0010599582456052303\n",
            "442 0.0010312995873391628\n",
            "443 0.0010027863318100572\n",
            "444 0.0009758640080690384\n",
            "445 0.0009497193968854845\n",
            "446 0.0009246841073036194\n",
            "447 0.0008991588838398457\n",
            "448 0.0008753908914513886\n",
            "449 0.0008519997354596853\n",
            "450 0.0008298174943774939\n",
            "451 0.0008070700569078326\n",
            "452 0.000786534626968205\n",
            "453 0.000765063741710037\n",
            "454 0.0007453526486642659\n",
            "455 0.0007272859802469611\n",
            "456 0.0007089718128554523\n",
            "457 0.0006911115488037467\n",
            "458 0.0006734057678841054\n",
            "459 0.0006567914970219135\n",
            "460 0.000639747828245163\n",
            "461 0.0006239242502488196\n",
            "462 0.0006084130727685988\n",
            "463 0.0005939377006143332\n",
            "464 0.0005791533039882779\n",
            "465 0.0005650228704325855\n",
            "466 0.0005511475610546768\n",
            "467 0.0005384745309129357\n",
            "468 0.0005267012165859342\n",
            "469 0.0005137283005751669\n",
            "470 0.0005012061446905136\n",
            "471 0.0004893989535048604\n",
            "472 0.000478335190564394\n",
            "473 0.00046826875768601894\n",
            "474 0.00045691474224440753\n",
            "475 0.00044616975355893373\n",
            "476 0.00043676927452906966\n",
            "477 0.0004261682915966958\n",
            "478 0.0004167096922174096\n",
            "479 0.0004072983574587852\n",
            "480 0.00039867209852673113\n",
            "481 0.00038994327769614756\n",
            "482 0.0003812489740084857\n",
            "483 0.00037271028850227594\n",
            "484 0.00036437821108847857\n",
            "485 0.00035636755637824535\n",
            "486 0.00034955079900100827\n",
            "487 0.00034214096376672387\n",
            "488 0.0003347062738612294\n",
            "489 0.0003275543567724526\n",
            "490 0.000320703285979107\n",
            "491 0.00031410495284944773\n",
            "492 0.00030714337481185794\n",
            "493 0.00030152854742482305\n",
            "494 0.000295847887173295\n",
            "495 0.00028903872589580715\n",
            "496 0.0002840990200638771\n",
            "497 0.00027824376593343914\n",
            "498 0.0002725207305047661\n",
            "499 0.00026661207084544003\n"
          ],
          "name": "stdout"
        }
      ]
    },
    {
      "cell_type": "markdown",
      "metadata": {
        "id": "ycwxAPHZLNST"
      },
      "source": [
        "\n",
        "\n",
        "---\n",
        "## Question 12\n",
        "\n",
        "In the code above, why do we have 2 in '2.0*(y_pred - y)`?\n",
        "\n",
        "## Question 13\n",
        "In the code above, what does `grad_h[h < 0] = 0` signify?\n",
        "\n",
        "## Question 14\n",
        "In the code above, how many \"epochs\" have we trained the model for? \n",
        "\n",
        "## Question 15\n",
        "In the code above, if we take the trained model, and run it on fresh  inputs, the trained model will be able to predict fresh output with high accuracy. \n",
        "\n",
        "## Question 16\n",
        "In the code above, if we dont use clone in `grad_h = grad_h_relu.clone()` the model will still train without any issues. "
      ]
    },
    {
      "cell_type": "markdown",
      "metadata": {
        "id": "xggxLfHjOIKj"
      },
      "source": [
        ""
      ]
    },
    {
      "cell_type": "markdown",
      "metadata": {
        "id": "NrIKywlhOQZD"
      },
      "source": [
        ""
      ]
    },
    {
      "cell_type": "markdown",
      "metadata": {
        "id": "bZ6Cxw0CAIsS"
      },
      "source": [
        "Question 12\n",
        "because we have calculated the gradient "
      ]
    },
    {
      "cell_type": "markdown",
      "metadata": {
        "id": "jyRKT8cnORdl"
      },
      "source": [
        "Question 13 Relu operation"
      ]
    },
    {
      "cell_type": "markdown",
      "metadata": {
        "id": "x_M7fraqW0Mi"
      },
      "source": [
        "Question 14 500"
      ]
    },
    {
      "cell_type": "markdown",
      "metadata": {
        "id": "qFzMFMiuYM_8"
      },
      "source": [
        "Question 15 False"
      ]
    },
    {
      "cell_type": "markdown",
      "metadata": {
        "id": "5CHSwbXWZDcd"
      },
      "source": [
        "Question 16 Yes"
      ]
    },
    {
      "cell_type": "code",
      "metadata": {
        "id": "PnJ49I07JJI6"
      },
      "source": [
        ""
      ],
      "execution_count": null,
      "outputs": []
    },
    {
      "cell_type": "markdown",
      "metadata": {
        "id": "FE2zeXsYWzHp"
      },
      "source": [
        ""
      ]
    },
    {
      "cell_type": "markdown",
      "metadata": {
        "id": "0HS304WQOL9L"
      },
      "source": [
        ""
      ]
    },
    {
      "cell_type": "code",
      "metadata": {
        "id": "5FMSk_MuOLJk"
      },
      "source": [
        ""
      ],
      "execution_count": null,
      "outputs": []
    }
  ]
}